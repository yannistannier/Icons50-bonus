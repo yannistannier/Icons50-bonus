{
 "cells": [
  {
   "cell_type": "code",
   "execution_count": 1,
   "metadata": {},
   "outputs": [],
   "source": [
    "import os\n",
    "import pandas as pd\n",
    "import faiss\n",
    "import numpy as np\n",
    "from sklearn.preprocessing import normalize\n",
    "from collections import Counter\n",
    "from sklearn.metrics import f1_score, accuracy_score\n",
    "import matplotlib.pyplot as plt\n",
    "from PIL import Image\n",
    "import glob\n",
    "import os\n",
    "import cv2"
   ]
  },
  {
   "cell_type": "code",
   "execution_count": 2,
   "metadata": {},
   "outputs": [],
   "source": [
    "train = pd.read_csv(\"train_ref.csv\")\n",
    "train_noaug = train[train[\"source\"].isna()]\n",
    "test = pd.read_csv(\"test_ref.csv\")\n",
    "class_indices = { v:k for k, v in enumerate(pd.Categorical(train[\"label_name\"]).categories) }\n",
    "indices_classes = { k:v for k, v in enumerate(pd.Categorical(train[\"label_name\"]).categories) }"
   ]
  },
  {
   "cell_type": "code",
   "execution_count": 3,
   "metadata": {},
   "outputs": [],
   "source": [
    "train_gnd = [ class_indices[x] for x in train[\"label_name\"] ]\n",
    "train_noaug_gnd = [ class_indices[x] for x in train_noaug[\"label_name\"] ]\n",
    "test_gnd =  [ class_indices[x] for x in test[\"label_name\"] ]"
   ]
  },
  {
   "cell_type": "code",
   "execution_count": 4,
   "metadata": {},
   "outputs": [],
   "source": [
    "train_name = train_noaug[\"name\"]\n",
    "test_name = test[\"name\"]"
   ]
  },
  {
   "cell_type": "markdown",
   "metadata": {},
   "source": [
    "## I) Retrieval"
   ]
  },
  {
   "cell_type": "code",
   "execution_count": 181,
   "metadata": {},
   "outputs": [],
   "source": [
    "feature_pool = np.concatenate((\n",
    "        np.load(\"./features/patchs_train_noaug.npy\"), \n",
    "        np.load(\"./features/features_train_ref_noaug_icon50.npy\"),\n",
    "        np.load(\"./features/v5_train_ref.npy\"),\n",
    "        np.load(\"./features/v4_train_ref.npy\")\n",
    "    ), 1)\n",
    "\n",
    "feature_query = np.concatenate((\n",
    "        np.load(\"./features/patchs_test.npy\"), \n",
    "        np.load(\"./features/features_test_ref_icon50.npy\"),\n",
    "        np.load(\"./features/v5_test_ref.npy\"),\n",
    "        np.load(\"./features/v4_test_ref.npy\"),\n",
    "    ), 1)\n"
   ]
  },
  {
   "cell_type": "code",
   "execution_count": 184,
   "metadata": {},
   "outputs": [],
   "source": [
    "index = faiss.IndexFlatIP(feature_query.shape[1])\n",
    "index.add(normalize(feature_pool))\n",
    "D, I = index.search(normalize(feature_query), 100)\n",
    "\n",
    "preds = []\n",
    "for k, (i, d) in enumerate(zip(I, D)):\n",
    "    labels = [ train_noaug_gnd[it] for it in i[:10] ]\n",
    "    pred = Counter(labels).most_common()[0][0]\n",
    "    preds.append(pred)\n",
    "    \n",
    "            \n",
    "preds = np.array(preds)"
   ]
  },
  {
   "cell_type": "code",
   "execution_count": 185,
   "metadata": {},
   "outputs": [
    {
     "name": "stdout",
     "output_type": "stream",
     "text": [
      "F1_score macro: 0.8111844685917678\n",
      "F1_score macro: 0.8999383188607427\n",
      "Accuracy:  0.9022869022869023\n"
     ]
    }
   ],
   "source": [
    "print(\"F1_score macro:\", f1_score(test_gnd, preds, average=\"macro\"))\n",
    "print(\"F1_score macro:\", f1_score(test_gnd, preds, average=\"weighted\"))\n",
    "print(\"Accuracy: \", accuracy_score(test_gnd, preds))"
   ]
  }
 ],
 "metadata": {
  "kernelspec": {
   "display_name": "Python 3",
   "language": "python",
   "name": "python3"
  },
  "language_info": {
   "codemirror_mode": {
    "name": "ipython",
    "version": 3
   },
   "file_extension": ".py",
   "mimetype": "text/x-python",
   "name": "python",
   "nbconvert_exporter": "python",
   "pygments_lexer": "ipython3",
   "version": "3.8.3"
  }
 },
 "nbformat": 4,
 "nbformat_minor": 4
}
