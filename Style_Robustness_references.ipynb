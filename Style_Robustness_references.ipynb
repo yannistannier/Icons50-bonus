{
 "cells": [
  {
   "cell_type": "markdown",
   "metadata": {},
   "source": [
    "# Test Technique  (bonus)\n",
    "\n",
    "**Author:** [Yannis Tannier](https://github.com/yannistannier)<br>\n",
    "**Date created:** 2021/10/16<br>\n",
    "**Last modified:** 2021/10/19<br>"
   ]
  },
  {
   "cell_type": "markdown",
   "metadata": {},
   "source": [
    "## Style Robustness : Entrainement avec test de robustesse sur le style (Microsoft)"
   ]
  },
  {
   "cell_type": "code",
   "execution_count": 1,
   "metadata": {},
   "outputs": [],
   "source": [
    "import os\n",
    "import numpy as np\n",
    "import pandas as pd\n",
    "import glob\n",
    "from sklearn.model_selection import train_test_split\n",
    "import tensorflow as tf\n",
    "import tensorflow_addons as tfa\n",
    "from tensorflow import keras\n",
    "from tensorflow.keras.models import Sequential\n",
    "from tensorflow.keras import layers\n",
    "from tensorflow.keras.applications import EfficientNetB0, EfficientNetB4\n",
    "from tensorflow.keras import metrics\n",
    "from keras.preprocessing.image import ImageDataGenerator\n",
    "from sklearn.metrics import classification_report, f1_score, accuracy_score\n",
    "import matplotlib.pyplot as plt"
   ]
  },
  {
   "cell_type": "code",
   "execution_count": 2,
   "metadata": {},
   "outputs": [
    {
     "name": "stdout",
     "output_type": "stream",
     "text": [
      "Num GPUs Available:  2\n"
     ]
    }
   ],
   "source": [
    "print(\"Num GPUs Available: \", len(tf.config.list_physical_devices('GPU')))"
   ]
  },
  {
   "cell_type": "markdown",
   "metadata": {},
   "source": [
    "On définit nos hyperparamètres "
   ]
  },
  {
   "cell_type": "code",
   "execution_count": 3,
   "metadata": {},
   "outputs": [],
   "source": [
    "BATCH_SIZE = 32\n",
    "NUM_CLASSES = 50\n",
    "IMG_SIZE = 120"
   ]
  },
  {
   "cell_type": "markdown",
   "metadata": {},
   "source": [
    "On doit à présent récupérer notre jeu d'entrainement et le devisier en fonction des labels de test references :"
   ]
  },
  {
   "cell_type": "code",
   "execution_count": 13,
   "metadata": {},
   "outputs": [],
   "source": [
    "csv = []\n",
    "for image in glob.glob(os.path.join(\"/SSD/DGFIP_2/Icons-50/\", \"*\", \"*.png\")):\n",
    "    \n",
    "    info = os.path.basename(image).split(\"_\")\n",
    "    company = info[0]\n",
    "    style = \"_\".join(info[2:])[:-4]\n",
    "    \n",
    "    if company == \"microsoft\":\n",
    "        train_test = \"test\"\n",
    "    else:\n",
    "        train_test = \"train\"\n",
    "    csv.append({\"name\": image, \"label_name\": image.split(\"/\")[-2], \"type\": train_test})"
   ]
  },
  {
   "cell_type": "code",
   "execution_count": 16,
   "metadata": {},
   "outputs": [],
   "source": [
    "df = pd.DataFrame(csv)"
   ]
  },
  {
   "cell_type": "code",
   "execution_count": 17,
   "metadata": {},
   "outputs": [],
   "source": [
    "train = df[df[\"type\"] == \"train\"]\n",
    "test = df[df[\"type\"] == \"test\"]"
   ]
  },
  {
   "cell_type": "code",
   "execution_count": 18,
   "metadata": {},
   "outputs": [
    {
     "data": {
      "text/plain": [
       "(8735, 1265)"
      ]
     },
     "execution_count": 18,
     "metadata": {},
     "output_type": "execute_result"
    }
   ],
   "source": [
    "len(train), len(test)"
   ]
  },
  {
   "cell_type": "code",
   "execution_count": 19,
   "metadata": {},
   "outputs": [
    {
     "data": {
      "text/html": [
       "<div>\n",
       "<style scoped>\n",
       "    .dataframe tbody tr th:only-of-type {\n",
       "        vertical-align: middle;\n",
       "    }\n",
       "\n",
       "    .dataframe tbody tr th {\n",
       "        vertical-align: top;\n",
       "    }\n",
       "\n",
       "    .dataframe thead th {\n",
       "        text-align: right;\n",
       "    }\n",
       "</style>\n",
       "<table border=\"1\" class=\"dataframe\">\n",
       "  <thead>\n",
       "    <tr style=\"text-align: right;\">\n",
       "      <th></th>\n",
       "      <th>name</th>\n",
       "      <th>label_name</th>\n",
       "      <th>type</th>\n",
       "    </tr>\n",
       "  </thead>\n",
       "  <tbody>\n",
       "    <tr>\n",
       "      <th>3</th>\n",
       "      <td>/SSD/DGFIP_2/Icons-50/writing_utensil/microsof...</td>\n",
       "      <td>writing_utensil</td>\n",
       "      <td>test</td>\n",
       "    </tr>\n",
       "    <tr>\n",
       "      <th>25</th>\n",
       "      <td>/SSD/DGFIP_2/Icons-50/writing_utensil/microsof...</td>\n",
       "      <td>writing_utensil</td>\n",
       "      <td>test</td>\n",
       "    </tr>\n",
       "    <tr>\n",
       "      <th>51</th>\n",
       "      <td>/SSD/DGFIP_2/Icons-50/writing_utensil/microsof...</td>\n",
       "      <td>writing_utensil</td>\n",
       "      <td>test</td>\n",
       "    </tr>\n",
       "    <tr>\n",
       "      <th>55</th>\n",
       "      <td>/SSD/DGFIP_2/Icons-50/writing_utensil/microsof...</td>\n",
       "      <td>writing_utensil</td>\n",
       "      <td>test</td>\n",
       "    </tr>\n",
       "    <tr>\n",
       "      <th>64</th>\n",
       "      <td>/SSD/DGFIP_2/Icons-50/writing_utensil/microsof...</td>\n",
       "      <td>writing_utensil</td>\n",
       "      <td>test</td>\n",
       "    </tr>\n",
       "  </tbody>\n",
       "</table>\n",
       "</div>"
      ],
      "text/plain": [
       "                                                 name       label_name  type\n",
       "3   /SSD/DGFIP_2/Icons-50/writing_utensil/microsof...  writing_utensil  test\n",
       "25  /SSD/DGFIP_2/Icons-50/writing_utensil/microsof...  writing_utensil  test\n",
       "51  /SSD/DGFIP_2/Icons-50/writing_utensil/microsof...  writing_utensil  test\n",
       "55  /SSD/DGFIP_2/Icons-50/writing_utensil/microsof...  writing_utensil  test\n",
       "64  /SSD/DGFIP_2/Icons-50/writing_utensil/microsof...  writing_utensil  test"
      ]
     },
     "execution_count": 19,
     "metadata": {},
     "output_type": "execute_result"
    }
   ],
   "source": [
    "test.head()"
   ]
  },
  {
   "cell_type": "markdown",
   "metadata": {},
   "source": [
    "On ajoute au jeux d'entrainement les images augmentées provenant uniquement du jeu d'entrainement :"
   ]
  },
  {
   "cell_type": "code",
   "execution_count": 22,
   "metadata": {},
   "outputs": [],
   "source": [
    "data_augmix = pd.read_csv(\"../data_augmix.csv\")\n",
    "\n",
    "train = train.append(\n",
    "    data_augmix[data_augmix[\"source\"].isin(train[\"name\"])]\n",
    ")"
   ]
  },
  {
   "cell_type": "code",
   "execution_count": 28,
   "metadata": {},
   "outputs": [],
   "source": [
    "train[\"label_name\"] = pd.Categorical(train[\"label_name\"])\n",
    "test[\"label_name\"] = pd.Categorical(test[\"label_name\"])"
   ]
  },
  {
   "cell_type": "code",
   "execution_count": 29,
   "metadata": {},
   "outputs": [],
   "source": [
    "test[\"label\"] = test[\"label_name\"].cat.codes"
   ]
  },
  {
   "cell_type": "code",
   "execution_count": 26,
   "metadata": {},
   "outputs": [],
   "source": [
    "classes_indices = { l: x for x,l in enumerate(train[\"label_name\"].cat.categories)}"
   ]
  },
  {
   "cell_type": "code",
   "execution_count": 30,
   "metadata": {},
   "outputs": [],
   "source": [
    "train[\"label\"] = [ classes_indices[x] for x in train[\"label_name\"]]\n",
    "test[\"label\"] = [ classes_indices[x] for x in test[\"label_name\"]]"
   ]
  },
  {
   "cell_type": "code",
   "execution_count": 161,
   "metadata": {},
   "outputs": [],
   "source": [
    "train.to_csv(\"train_style.csv\", index=False)\n",
    "test.to_csv(\"test_style.csv\", index=False)"
   ]
  },
  {
   "cell_type": "markdown",
   "metadata": {},
   "source": [
    "Notre première approche consiste en un fine-tuning d'un EfficientNet-B0.   \n",
    "\n",
    "Pour cela nous importons **EfficientNetB0** de keras application avec le paramètre weights à \"imagenet\" car nous voulons importer les poids du modèle entrainé sur ImageNet. ImageNet étant une base de données composées de plus d'un million d'images, les valeurs des kernels (= les poids du modèle) appris sur ImageNet sont de la grande valeur. Même si notre jeu de données ne ressemble pas exactement aux images d'ImageNet, il est souvent plus intéressant de récupérer les poids d'un modèle entrainé sur ImageNet que d'initialiser les poids de façon aléatoire.   \n",
    "\n",
    "On ajoute 4 couches après notre backbone (EfficientNetB0):    \n",
    "- Une couche de GlobalAveragePooling2D pour réduire la dimension des features maps de sortie du backbone et également \"aplatir\" la matrice (l'équivalent d'un reshape d'une matrice 3D à 2D)\n",
    "- Suivi d'une couche de BatchNormalization qui fait office de régularisation\n",
    "- Puis d'une couche de Dropout, toujours pour régulariser notre réseau\n",
    "- Et enfin une couche de Dense avec softmax avec N (le nombre de neurones) égale à notre nombre de label\n",
    "\n",
    "L'entrainement se fera en 2 temps :    \n",
    "- Premièrement nous allons de freeze toutes les couches de notre backbone (les couches d'EfficientNetB0) et entrainer avec un important learning (1e-2) puis le baisser progressivement jusqu'à (1e-4). Nous faisons cela car nous allons ajouter de nouvelle couches à notre réseau et nous voulons d'abord entrainer ces nouvelles couches afin de ne pas trop modifier les valeurs des poids du réseau au début de l'apprentissage, là où l'erreur sera la plus grande et donc le gradient élevée lors de la back propagation.   \n",
    "\n",
    "\n",
    "- Dans un second temps, nous allons unfreeze la quasi-totalité du réseau et entrainer avec un faible learning rate (1e-4). Ce deuxième entrainement permet de spécialiser notre réseau dans son ensemble à la tache souhaitée."
   ]
  },
  {
   "cell_type": "code",
   "execution_count": 35,
   "metadata": {},
   "outputs": [],
   "source": [
    "def build_model(learning_rate=1e-2):\n",
    "    inputs = layers.Input(shape=(IMG_SIZE, IMG_SIZE, 3))\n",
    "    model = EfficientNetB0(include_top=False, input_tensor=inputs, weights=\"imagenet\")\n",
    "\n",
    "    # Freeze the pretrained weights\n",
    "    model.trainable = False\n",
    "    \n",
    "    output = model.output\n",
    "  \n",
    "    # Rebuild top\n",
    "    x = layers.GlobalAveragePooling2D(name=\"avg_pool\")(output)\n",
    "    x = layers.BatchNormalization()(x)\n",
    "\n",
    "    top_dropout_rate = 0.2\n",
    "    x = layers.Dropout(top_dropout_rate, name=\"top_dropout\")(x)\n",
    "    outputs = layers.Dense(50, activation=\"softmax\", name=\"logit\")(x)\n",
    "\n",
    "    # Compile\n",
    "    model = tf.keras.Model(inputs, outputs, name=\"EfficientNetb0\")\n",
    "    optimizer = tf.keras.optimizers.Adam(learning_rate=1e-2)\n",
    "    model.compile(\n",
    "        optimizer=optimizer, loss=\"categorical_crossentropy\", metrics=[\"accuracy\", tfa.metrics.F1Score(num_classes=NUM_CLASSES, average='macro')]\n",
    "    )\n",
    "    return model"
   ]
  },
  {
   "cell_type": "code",
   "execution_count": 36,
   "metadata": {},
   "outputs": [],
   "source": [
    "def run_train(model, train_generator, val_generator, epochs, save_weights=\"model_best.h5\", verbose=1):\n",
    "    def scheduler(epoch, lr):\n",
    "        if epoch < 5:\n",
    "            return lr\n",
    "        if epoch < 30:\n",
    "            return lr*0.1\n",
    "        return lr*0.01\n",
    "\n",
    "    if verbose > 0:\n",
    "        print(\"First Training : Backbone freeze\\n\")\n",
    "    \n",
    "    freeze_hist = model.fit(train_generator, \n",
    "                            epochs=epochs, \n",
    "                            validation_data=val_generator, \n",
    "                            verbose=verbose,\n",
    "                            use_multiprocessing = True,\n",
    "                            max_queue_size=20,\n",
    "                            workers = 20,\n",
    "                            callbacks=[\n",
    "                                tf.keras.callbacks.LearningRateScheduler(scheduler)\n",
    "                            ])\n",
    "    \n",
    "    if verbose > 0:\n",
    "        print(\"Second Training : Unfreeze all network and train with a small learning rate\\n\")\n",
    "    \n",
    "    for layer in model.layers[-20:]:\n",
    "        if not isinstance(layer, layers.BatchNormalization):\n",
    "            layer.trainable = True\n",
    "\n",
    "    optimizer = tf.keras.optimizers.Adam(learning_rate=1e-4)\n",
    "    model.compile(\n",
    "        optimizer=optimizer, \n",
    "        loss=\"categorical_crossentropy\", \n",
    "        metrics=[\"accuracy\", \n",
    "            tfa.metrics.F1Score(num_classes=50, average='macro')\n",
    "        ]\n",
    "    )\n",
    "    \n",
    "    hist = model.fit(train_generator, \n",
    "                     epochs=40, \n",
    "                     validation_data=val_generator, \n",
    "                     verbose=verbose,\n",
    "                     use_multiprocessing = True,\n",
    "                     max_queue_size=20,\n",
    "                     workers = 20,\n",
    "                     callbacks=[\n",
    "                         tf.keras.callbacks.ModelCheckpoint(filepath=save_weights, \n",
    "                                                            save_best_only=True, \n",
    "                                                            monitor=\"val_loss\"),\n",
    "                     ])\n",
    "    \n",
    "    return hist, freeze_hist"
   ]
  },
  {
   "cell_type": "markdown",
   "metadata": {},
   "source": [
    "Maintenant on prépare notre fonction d'entrainement avec notre workflow de données :   \n",
    "- Nous utilisons **ImageDataGenerator** mais nous definissons aucune augmentation.   \n",
    "- Ensuite, nous utilisons la fonction flow_from_dataframe pour lier notre Generator à notre base d'entrainement.  \n",
    "\n",
    "Dans la fonction **fit** nous devons définir trois paramètres importants afin d'avoir un workflow optimisé :    \n",
    "- use_multiprocessing à True\n",
    "- workers à 14 (A remplir en fonction du nombre de threads disponibles sur le CPU)\n",
    "- max_queue_size > 10\n",
    "\n",
    "Ces paramètres vont permettre au pipeline de prefetch les données lors de l'entrainement, ainsi le CPU va préparer les batchs d'image (avec augmentations) pendant le GPU fera l'entrainement. Prefetch les batchs en parallèle du GPU permet d'avoir un workflow optimisé ou le GPU est à 100% d'utilisation constante et de ne surtout pas créer de bottleneck ( à savoir le moment ou le GPU ne procède plus à l'entrainement car il attend le batch d'image du CPU )"
   ]
  },
  {
   "cell_type": "code",
   "execution_count": 37,
   "metadata": {},
   "outputs": [],
   "source": [
    "def training(train_df, val_df, save_weights, epochs=200, verbose=1):\n",
    "    \n",
    "    if verbose > 0:\n",
    "        print(\"Create ImageDataGenerator .. \\n\")\n",
    "    \n",
    "    \n",
    "    labels = train_df[\"label_name\"].cat.categories.tolist()\n",
    "        \n",
    "    train_datagen = ImageDataGenerator(\n",
    "        rotation_range=20, # rotation\n",
    "        width_shift_range=0.2, # horizontal shift\n",
    "        height_shift_range=0.2, # vertical shift\n",
    "        zoom_range=0.2, # zoom\n",
    "        horizontal_flip=True, # horizontal flip\n",
    "        vertical_flip=True,\n",
    "        channel_shift_range=0.3,\n",
    "        brightness_range=[0.2,1.2]) # brightness\n",
    "\n",
    "    datagen_val = ImageDataGenerator()\n",
    "    \n",
    "    train_generator = train_datagen.flow_from_dataframe(dataframe=train_df, \n",
    "        directory=\"\",\n",
    "        x_col=\"name\", \n",
    "        y_col=\"label_name\", \n",
    "        class_mode=\"categorical\",\n",
    "        classes = labels,\n",
    "        target_size=(IMG_SIZE, IMG_SIZE), \n",
    "        batch_size=BATCH_SIZE,\n",
    "        rescale=1.0/255,\n",
    "        seed=2020\n",
    "    )\n",
    "    \n",
    "    val_generator = datagen_val.flow_from_dataframe(dataframe=val_df, \n",
    "      directory=\"\",\n",
    "      x_col=\"name\", \n",
    "      y_col=\"label_name\", \n",
    "      class_mode=\"categorical\", \n",
    "      classes = labels,\n",
    "      target_size=(IMG_SIZE, IMG_SIZE), \n",
    "      batch_size=BATCH_SIZE,\n",
    "      rescale=1.0/255,\n",
    "      seed=2020\n",
    "    )\n",
    "    if verbose > 0:\n",
    "        print(\"\\nBuild model .. \\n\")\n",
    "        \n",
    "    model = build_model()\n",
    "    if verbose > 0:\n",
    "        print(\"\\nRun training .. \\n\")\n",
    "        \n",
    "    hist, freeze_hist = run_train(model, \n",
    "                            train_generator, \n",
    "                            val_generator, \n",
    "                            epochs=epochs,\n",
    "                            save_weights=save_weights,\n",
    "                            verbose = verbose\n",
    "                        )\n",
    "    \n",
    "    return hist, freeze_hist"
   ]
  },
  {
   "cell_type": "markdown",
   "metadata": {},
   "source": [
    "On peut procéder à l'apprentissage : "
   ]
  },
  {
   "cell_type": "code",
   "execution_count": 38,
   "metadata": {
    "scrolled": true
   },
   "outputs": [
    {
     "name": "stdout",
     "output_type": "stream",
     "text": [
      "Create ImageDataGenerator .. \n",
      "\n",
      "Found 22325 validated image filenames belonging to 50 classes.\n",
      "Found 1265 validated image filenames belonging to 50 classes.\n",
      "\n",
      "Build model .. \n",
      "\n",
      "\n",
      "Run training .. \n",
      "\n",
      "First Training : Backbone freeze\n",
      "\n",
      "Epoch 1/40\n",
      "698/698 [==============================] - 29s 32ms/step - loss: 1.2660 - accuracy: 0.7584 - f1_score: 0.7577 - val_loss: 2.1145 - val_accuracy: 0.6474 - val_f1_score: 0.5882\n",
      "Epoch 2/40\n",
      "698/698 [==============================] - 21s 29ms/step - loss: 0.7453 - accuracy: 0.8374 - f1_score: 0.8371 - val_loss: 1.3892 - val_accuracy: 0.7146 - val_f1_score: 0.6776\n",
      "Epoch 3/40\n",
      "698/698 [==============================] - 21s 29ms/step - loss: 0.6165 - accuracy: 0.8550 - f1_score: 0.8545 - val_loss: 1.6516 - val_accuracy: 0.6743 - val_f1_score: 0.6087\n",
      "Epoch 4/40\n",
      "698/698 [==============================] - 21s 28ms/step - loss: 0.5796 - accuracy: 0.8569 - f1_score: 0.8565 - val_loss: 1.7390 - val_accuracy: 0.6561 - val_f1_score: 0.5874\n",
      "Epoch 5/40\n",
      "698/698 [==============================] - 22s 30ms/step - loss: 0.5855 - accuracy: 0.8620 - f1_score: 0.8618 - val_loss: 1.9812 - val_accuracy: 0.6419 - val_f1_score: 0.5852\n",
      "Epoch 6/40\n",
      "698/698 [==============================] - 21s 28ms/step - loss: 0.6365 - accuracy: 0.8592 - f1_score: 0.8588 - val_loss: 1.9880 - val_accuracy: 0.6759 - val_f1_score: 0.6151\n",
      "Epoch 7/40\n",
      "698/698 [==============================] - 21s 29ms/step - loss: 0.6544 - accuracy: 0.8576 - f1_score: 0.8574 - val_loss: 2.0948 - val_accuracy: 0.6435 - val_f1_score: 0.6096\n",
      "Epoch 8/40\n",
      "698/698 [==============================] - 21s 29ms/step - loss: 0.7012 - accuracy: 0.8581 - f1_score: 0.8578 - val_loss: 2.3073 - val_accuracy: 0.6506 - val_f1_score: 0.6192\n",
      "Epoch 9/40\n",
      "698/698 [==============================] - 20s 28ms/step - loss: 0.7146 - accuracy: 0.8637 - f1_score: 0.8636 - val_loss: 2.2149 - val_accuracy: 0.6885 - val_f1_score: 0.6419\n",
      "Epoch 10/40\n",
      "698/698 [==============================] - 21s 28ms/step - loss: 0.7432 - accuracy: 0.8581 - f1_score: 0.8579 - val_loss: 2.3566 - val_accuracy: 0.6751 - val_f1_score: 0.6060\n",
      "Epoch 11/40\n",
      "698/698 [==============================] - 22s 29ms/step - loss: 0.4634 - accuracy: 0.8985 - f1_score: 0.8984 - val_loss: 1.6422 - val_accuracy: 0.7138 - val_f1_score: 0.6422\n",
      "Epoch 12/40\n",
      "698/698 [==============================] - 21s 29ms/step - loss: 0.3923 - accuracy: 0.9109 - f1_score: 0.9108 - val_loss: 1.5829 - val_accuracy: 0.7178 - val_f1_score: 0.6475\n",
      "Epoch 13/40\n",
      "698/698 [==============================] - 21s 29ms/step - loss: 0.4007 - accuracy: 0.9073 - f1_score: 0.9072 - val_loss: 1.5995 - val_accuracy: 0.7162 - val_f1_score: 0.6475\n",
      "Epoch 14/40\n",
      "698/698 [==============================] - 21s 28ms/step - loss: 0.3897 - accuracy: 0.9110 - f1_score: 0.9109 - val_loss: 1.5842 - val_accuracy: 0.7194 - val_f1_score: 0.6481\n",
      "Epoch 15/40\n",
      "698/698 [==============================] - 21s 29ms/step - loss: 0.3829 - accuracy: 0.9099 - f1_score: 0.9098 - val_loss: 1.5808 - val_accuracy: 0.7209 - val_f1_score: 0.6527\n",
      "Epoch 16/40\n",
      "698/698 [==============================] - 22s 29ms/step - loss: 0.3988 - accuracy: 0.9072 - f1_score: 0.9070 - val_loss: 1.5853 - val_accuracy: 0.7186 - val_f1_score: 0.6504\n",
      "Epoch 17/40\n",
      "698/698 [==============================] - 22s 29ms/step - loss: 0.3976 - accuracy: 0.9107 - f1_score: 0.9104 - val_loss: 1.5768 - val_accuracy: 0.7178 - val_f1_score: 0.6483\n",
      "Epoch 18/40\n",
      "698/698 [==============================] - 21s 29ms/step - loss: 0.3926 - accuracy: 0.9089 - f1_score: 0.9087 - val_loss: 1.6026 - val_accuracy: 0.7170 - val_f1_score: 0.6490\n",
      "Epoch 19/40\n",
      "698/698 [==============================] - 21s 29ms/step - loss: 0.3829 - accuracy: 0.9118 - f1_score: 0.9117 - val_loss: 1.5865 - val_accuracy: 0.7209 - val_f1_score: 0.6521\n",
      "Epoch 20/40\n",
      "698/698 [==============================] - 22s 29ms/step - loss: 0.3876 - accuracy: 0.9119 - f1_score: 0.9116 - val_loss: 1.5831 - val_accuracy: 0.7186 - val_f1_score: 0.6492\n",
      "Epoch 21/40\n",
      "698/698 [==============================] - 23s 31ms/step - loss: 0.3910 - accuracy: 0.9127 - f1_score: 0.9124 - val_loss: 1.5830 - val_accuracy: 0.7209 - val_f1_score: 0.6512\n",
      "Epoch 22/40\n",
      "698/698 [==============================] - 22s 30ms/step - loss: 0.3792 - accuracy: 0.9129 - f1_score: 0.9127 - val_loss: 1.5908 - val_accuracy: 0.7186 - val_f1_score: 0.6495\n",
      "Epoch 23/40\n",
      "698/698 [==============================] - 22s 30ms/step - loss: 0.3916 - accuracy: 0.9092 - f1_score: 0.9089 - val_loss: 1.5760 - val_accuracy: 0.7194 - val_f1_score: 0.6492\n",
      "Epoch 24/40\n",
      "698/698 [==============================] - 22s 29ms/step - loss: 0.3912 - accuracy: 0.9092 - f1_score: 0.9092 - val_loss: 1.5959 - val_accuracy: 0.7170 - val_f1_score: 0.6475\n",
      "Epoch 25/40\n",
      "698/698 [==============================] - 22s 29ms/step - loss: 0.3840 - accuracy: 0.9105 - f1_score: 0.9102 - val_loss: 1.5836 - val_accuracy: 0.7186 - val_f1_score: 0.6498\n",
      "Epoch 26/40\n",
      "698/698 [==============================] - 22s 29ms/step - loss: 0.3774 - accuracy: 0.9105 - f1_score: 0.9103 - val_loss: 1.5834 - val_accuracy: 0.7209 - val_f1_score: 0.6530\n",
      "Epoch 27/40\n",
      "698/698 [==============================] - 21s 29ms/step - loss: 0.3912 - accuracy: 0.9099 - f1_score: 0.9096 - val_loss: 1.5825 - val_accuracy: 0.7233 - val_f1_score: 0.6559\n",
      "Epoch 28/40\n",
      "698/698 [==============================] - 22s 29ms/step - loss: 0.3961 - accuracy: 0.9078 - f1_score: 0.9077 - val_loss: 1.5926 - val_accuracy: 0.7194 - val_f1_score: 0.6489\n",
      "Epoch 29/40\n",
      "698/698 [==============================] - 22s 30ms/step - loss: 0.3781 - accuracy: 0.9112 - f1_score: 0.9111 - val_loss: 1.5836 - val_accuracy: 0.7178 - val_f1_score: 0.6488\n",
      "Epoch 30/40\n",
      "698/698 [==============================] - 22s 30ms/step - loss: 0.3804 - accuracy: 0.9140 - f1_score: 0.9138 - val_loss: 1.5797 - val_accuracy: 0.7202 - val_f1_score: 0.6513\n",
      "Epoch 31/40\n",
      "698/698 [==============================] - 23s 30ms/step - loss: 0.3729 - accuracy: 0.9125 - f1_score: 0.9123 - val_loss: 1.5822 - val_accuracy: 0.7178 - val_f1_score: 0.6459\n",
      "Epoch 32/40\n",
      "698/698 [==============================] - 23s 31ms/step - loss: 0.3884 - accuracy: 0.9121 - f1_score: 0.9117 - val_loss: 1.5899 - val_accuracy: 0.7186 - val_f1_score: 0.6478\n",
      "Epoch 33/40\n",
      "698/698 [==============================] - 22s 30ms/step - loss: 0.3767 - accuracy: 0.9105 - f1_score: 0.9104 - val_loss: 1.5966 - val_accuracy: 0.7202 - val_f1_score: 0.6520\n",
      "Epoch 34/40\n",
      "698/698 [==============================] - 24s 32ms/step - loss: 0.3801 - accuracy: 0.9119 - f1_score: 0.9117 - val_loss: 1.5912 - val_accuracy: 0.7202 - val_f1_score: 0.6500\n",
      "Epoch 35/40\n",
      "698/698 [==============================] - 22s 30ms/step - loss: 0.3851 - accuracy: 0.9123 - f1_score: 0.9121 - val_loss: 1.5857 - val_accuracy: 0.7178 - val_f1_score: 0.6492\n",
      "Epoch 36/40\n",
      "698/698 [==============================] - 22s 30ms/step - loss: 0.3729 - accuracy: 0.9136 - f1_score: 0.9133 - val_loss: 1.5891 - val_accuracy: 0.7186 - val_f1_score: 0.6485\n",
      "Epoch 37/40\n",
      "698/698 [==============================] - 25s 34ms/step - loss: 0.3929 - accuracy: 0.9107 - f1_score: 0.9105 - val_loss: 1.5829 - val_accuracy: 0.7209 - val_f1_score: 0.6495\n",
      "Epoch 38/40\n",
      "698/698 [==============================] - 24s 31ms/step - loss: 0.3934 - accuracy: 0.9102 - f1_score: 0.9100 - val_loss: 1.5749 - val_accuracy: 0.7202 - val_f1_score: 0.6585\n",
      "Epoch 39/40\n",
      "698/698 [==============================] - 23s 30ms/step - loss: 0.3940 - accuracy: 0.9095 - f1_score: 0.9096 - val_loss: 1.5827 - val_accuracy: 0.7170 - val_f1_score: 0.6473\n",
      "Epoch 40/40\n",
      "698/698 [==============================] - 24s 32ms/step - loss: 0.4036 - accuracy: 0.9088 - f1_score: 0.9088 - val_loss: 1.5765 - val_accuracy: 0.7194 - val_f1_score: 0.6578\n",
      "Second Training : Unfreeze all network and train with a small learning rate\n",
      "\n",
      "Epoch 1/40\n",
      "698/698 [==============================] - 30s 35ms/step - loss: 0.3708 - accuracy: 0.9149 - f1_score: 0.9148 - val_loss: 1.4916 - val_accuracy: 0.7368 - val_f1_score: 0.6901\n"
     ]
    },
    {
     "name": "stderr",
     "output_type": "stream",
     "text": [
      "/home/yannis/anaconda3/lib/python3.8/site-packages/keras/utils/generic_utils.py:494: CustomMaskWarning: Custom mask layers require a config and must override get_config. When loading, the custom mask layer must be passed to the custom_objects argument.\n",
      "  warnings.warn('Custom mask layers require a config and must override '\n"
     ]
    },
    {
     "name": "stdout",
     "output_type": "stream",
     "text": [
      "Epoch 2/40\n",
      "698/698 [==============================] - 25s 34ms/step - loss: 0.2735 - accuracy: 0.9334 - f1_score: 0.9334 - val_loss: 1.2775 - val_accuracy: 0.7652 - val_f1_score: 0.7213\n",
      "Epoch 3/40\n",
      "698/698 [==============================] - 26s 35ms/step - loss: 0.2207 - accuracy: 0.9423 - f1_score: 0.9424 - val_loss: 1.2260 - val_accuracy: 0.7747 - val_f1_score: 0.7211\n",
      "Epoch 4/40\n",
      "698/698 [==============================] - 27s 35ms/step - loss: 0.1943 - accuracy: 0.9488 - f1_score: 0.9488 - val_loss: 1.2070 - val_accuracy: 0.7739 - val_f1_score: 0.7303\n",
      "Epoch 5/40\n",
      "698/698 [==============================] - 26s 34ms/step - loss: 0.1765 - accuracy: 0.9543 - f1_score: 0.9542 - val_loss: 1.1540 - val_accuracy: 0.7897 - val_f1_score: 0.7578\n",
      "Epoch 6/40\n",
      "698/698 [==============================] - 26s 35ms/step - loss: 0.1495 - accuracy: 0.9587 - f1_score: 0.9587 - val_loss: 1.1074 - val_accuracy: 0.7960 - val_f1_score: 0.7582\n",
      "Epoch 7/40\n",
      "698/698 [==============================] - 27s 35ms/step - loss: 0.1307 - accuracy: 0.9625 - f1_score: 0.9624 - val_loss: 1.0984 - val_accuracy: 0.8055 - val_f1_score: 0.7717\n",
      "Epoch 8/40\n",
      "698/698 [==============================] - 26s 36ms/step - loss: 0.1298 - accuracy: 0.9652 - f1_score: 0.9652 - val_loss: 1.0456 - val_accuracy: 0.8079 - val_f1_score: 0.7713\n",
      "Epoch 9/40\n",
      "698/698 [==============================] - 26s 35ms/step - loss: 0.1136 - accuracy: 0.9695 - f1_score: 0.9696 - val_loss: 1.0854 - val_accuracy: 0.8119 - val_f1_score: 0.7905\n",
      "Epoch 10/40\n",
      "698/698 [==============================] - 27s 36ms/step - loss: 0.1181 - accuracy: 0.9679 - f1_score: 0.9679 - val_loss: 1.1320 - val_accuracy: 0.8008 - val_f1_score: 0.7650\n",
      "Epoch 11/40\n",
      "698/698 [==============================] - 28s 37ms/step - loss: 0.1037 - accuracy: 0.9711 - f1_score: 0.9710 - val_loss: 1.1414 - val_accuracy: 0.7960 - val_f1_score: 0.7678\n",
      "Epoch 12/40\n",
      "698/698 [==============================] - 29s 38ms/step - loss: 0.0941 - accuracy: 0.9741 - f1_score: 0.9741 - val_loss: 1.0167 - val_accuracy: 0.8087 - val_f1_score: 0.7791\n",
      "Epoch 13/40\n",
      "698/698 [==============================] - 29s 38ms/step - loss: 0.0915 - accuracy: 0.9743 - f1_score: 0.9743 - val_loss: 1.0026 - val_accuracy: 0.8213 - val_f1_score: 0.7850\n",
      "Epoch 14/40\n",
      "698/698 [==============================] - 29s 38ms/step - loss: 0.0914 - accuracy: 0.9750 - f1_score: 0.9750 - val_loss: 1.0858 - val_accuracy: 0.8190 - val_f1_score: 0.7731\n",
      "Epoch 15/40\n",
      "698/698 [==============================] - 30s 40ms/step - loss: 0.0828 - accuracy: 0.9767 - f1_score: 0.9766 - val_loss: 1.0220 - val_accuracy: 0.8229 - val_f1_score: 0.7810\n",
      "Epoch 16/40\n",
      "698/698 [==============================] - 30s 40ms/step - loss: 0.0777 - accuracy: 0.9781 - f1_score: 0.9780 - val_loss: 1.0358 - val_accuracy: 0.8269 - val_f1_score: 0.7879\n",
      "Epoch 17/40\n",
      "698/698 [==============================] - 29s 38ms/step - loss: 0.0704 - accuracy: 0.9811 - f1_score: 0.9811 - val_loss: 1.0362 - val_accuracy: 0.8253 - val_f1_score: 0.7787\n",
      "Epoch 18/40\n",
      "698/698 [==============================] - 28s 36ms/step - loss: 0.0726 - accuracy: 0.9802 - f1_score: 0.9803 - val_loss: 1.0706 - val_accuracy: 0.8182 - val_f1_score: 0.7677\n",
      "Epoch 19/40\n",
      "698/698 [==============================] - 32s 42ms/step - loss: 0.0682 - accuracy: 0.9802 - f1_score: 0.9803 - val_loss: 1.0135 - val_accuracy: 0.8277 - val_f1_score: 0.7953\n",
      "Epoch 20/40\n",
      "698/698 [==============================] - 29s 38ms/step - loss: 0.0627 - accuracy: 0.9817 - f1_score: 0.9817 - val_loss: 0.9637 - val_accuracy: 0.8277 - val_f1_score: 0.7867\n",
      "Epoch 21/40\n",
      "698/698 [==============================] - 28s 37ms/step - loss: 0.0613 - accuracy: 0.9821 - f1_score: 0.9821 - val_loss: 0.9502 - val_accuracy: 0.8340 - val_f1_score: 0.7900\n",
      "Epoch 22/40\n",
      "698/698 [==============================] - 32s 42ms/step - loss: 0.0584 - accuracy: 0.9835 - f1_score: 0.9836 - val_loss: 1.0856 - val_accuracy: 0.8206 - val_f1_score: 0.7853\n",
      "Epoch 23/40\n",
      "698/698 [==============================] - 29s 38ms/step - loss: 0.0545 - accuracy: 0.9836 - f1_score: 0.9836 - val_loss: 1.1399 - val_accuracy: 0.8111 - val_f1_score: 0.7678\n",
      "Epoch 24/40\n",
      "698/698 [==============================] - 29s 38ms/step - loss: 0.0590 - accuracy: 0.9829 - f1_score: 0.9830 - val_loss: 1.0899 - val_accuracy: 0.8221 - val_f1_score: 0.7786\n",
      "Epoch 25/40\n",
      "698/698 [==============================] - 32s 42ms/step - loss: 0.0539 - accuracy: 0.9837 - f1_score: 0.9838 - val_loss: 1.0855 - val_accuracy: 0.8221 - val_f1_score: 0.7798\n",
      "Epoch 26/40\n",
      "698/698 [==============================] - 29s 38ms/step - loss: 0.0579 - accuracy: 0.9838 - f1_score: 0.9839 - val_loss: 1.0645 - val_accuracy: 0.8285 - val_f1_score: 0.7832\n",
      "Epoch 27/40\n",
      "698/698 [==============================] - 30s 39ms/step - loss: 0.0553 - accuracy: 0.9843 - f1_score: 0.9843 - val_loss: 1.0446 - val_accuracy: 0.8245 - val_f1_score: 0.7807\n",
      "Epoch 28/40\n",
      "698/698 [==============================] - 29s 37ms/step - loss: 0.0432 - accuracy: 0.9865 - f1_score: 0.9864 - val_loss: 1.0144 - val_accuracy: 0.8229 - val_f1_score: 0.7900\n",
      "Epoch 29/40\n",
      "698/698 [==============================] - 33s 43ms/step - loss: 0.0498 - accuracy: 0.9853 - f1_score: 0.9853 - val_loss: 0.8639 - val_accuracy: 0.8403 - val_f1_score: 0.8121\n",
      "Epoch 30/40\n",
      "698/698 [==============================] - 31s 42ms/step - loss: 0.0451 - accuracy: 0.9862 - f1_score: 0.9862 - val_loss: 0.9346 - val_accuracy: 0.8277 - val_f1_score: 0.7890\n",
      "Epoch 31/40\n",
      "698/698 [==============================] - 29s 38ms/step - loss: 0.0415 - accuracy: 0.9877 - f1_score: 0.9878 - val_loss: 0.9531 - val_accuracy: 0.8324 - val_f1_score: 0.7963\n",
      "Epoch 32/40\n",
      "698/698 [==============================] - 33s 43ms/step - loss: 0.0388 - accuracy: 0.9883 - f1_score: 0.9882 - val_loss: 1.0113 - val_accuracy: 0.8285 - val_f1_score: 0.7869\n",
      "Epoch 33/40\n",
      "698/698 [==============================] - 29s 38ms/step - loss: 0.0415 - accuracy: 0.9875 - f1_score: 0.9876 - val_loss: 0.9114 - val_accuracy: 0.8348 - val_f1_score: 0.8045\n",
      "Epoch 34/40\n",
      "698/698 [==============================] - 31s 40ms/step - loss: 0.0432 - accuracy: 0.9876 - f1_score: 0.9876 - val_loss: 0.9691 - val_accuracy: 0.8356 - val_f1_score: 0.7946\n",
      "Epoch 35/40\n",
      "698/698 [==============================] - 29s 37ms/step - loss: 0.0356 - accuracy: 0.9891 - f1_score: 0.9892 - val_loss: 1.0131 - val_accuracy: 0.8253 - val_f1_score: 0.7812\n",
      "Epoch 36/40\n",
      "698/698 [==============================] - 27s 35ms/step - loss: 0.0366 - accuracy: 0.9889 - f1_score: 0.9889 - val_loss: 0.9613 - val_accuracy: 0.8308 - val_f1_score: 0.8020\n",
      "Epoch 37/40\n",
      "698/698 [==============================] - 28s 37ms/step - loss: 0.0386 - accuracy: 0.9892 - f1_score: 0.9892 - val_loss: 0.9332 - val_accuracy: 0.8324 - val_f1_score: 0.8013\n",
      "Epoch 38/40\n",
      "698/698 [==============================] - 32s 42ms/step - loss: 0.0363 - accuracy: 0.9886 - f1_score: 0.9886 - val_loss: 0.9285 - val_accuracy: 0.8269 - val_f1_score: 0.7947\n",
      "Epoch 39/40\n",
      "698/698 [==============================] - 36s 48ms/step - loss: 0.0338 - accuracy: 0.9899 - f1_score: 0.9899 - val_loss: 0.8929 - val_accuracy: 0.8387 - val_f1_score: 0.8014\n",
      "Epoch 40/40\n",
      "698/698 [==============================] - 36s 48ms/step - loss: 0.0324 - accuracy: 0.9904 - f1_score: 0.9904 - val_loss: 0.9085 - val_accuracy: 0.8403 - val_f1_score: 0.8029\n"
     ]
    }
   ],
   "source": [
    "hist, freeze_hist = training(train, test, \"model_style_test.h5\", epochs=40, verbose=1)"
   ]
  },
  {
   "cell_type": "code",
   "execution_count": 41,
   "metadata": {},
   "outputs": [
    {
     "name": "stdout",
     "output_type": "stream",
     "text": [
      "------------------------------ First training ------------------------------\n"
     ]
    },
    {
     "data": {
      "image/png": "[encoded data removed]",
      "text/plain": [
       "<Figure size 1800x360 with 2 Axes>"
      ]
     },
     "metadata": {
      "needs_background": "light"
     },
     "output_type": "display_data"
    },
    {
     "name": "stdout",
     "output_type": "stream",
     "text": [
      "------------------------------ Second training ------------------------------\n"
     ]
    },
    {
     "data": {
      "image/png": "[encoded data removed]",
      "text/plain": [
       "<Figure size 1800x360 with 2 Axes>"
      ]
     },
     "metadata": {
      "needs_background": "light"
     },
     "output_type": "display_data"
    }
   ],
   "source": [
    "####################################################################################\n",
    "############# Executer les fonctions utiles à la fin du notebook avant #############\n",
    "####################################################################################\n",
    "\n",
    "plot_history(freeze_hist, name = \"First training\")\n",
    "plot_history(hist, name = \"Second training\")"
   ]
  },
  {
   "cell_type": "markdown",
   "metadata": {},
   "source": [
    "Une fois notre modèle entrainé, les poids du meilleur réseau ont été sauvegardés dans un fichier model_no_aug_best.h5.  \n",
    "\n",
    "Nous rechargeons le modèle afin de l'évaluer sur notre jeu de test.   "
   ]
  },
  {
   "cell_type": "code",
   "execution_count": 42,
   "metadata": {},
   "outputs": [],
   "source": [
    "model = keras.models.load_model('model_style_test.h5')"
   ]
  },
  {
   "cell_type": "code",
   "execution_count": 43,
   "metadata": {},
   "outputs": [
    {
     "name": "stdout",
     "output_type": "stream",
     "text": [
      "------------------------------ Evaluation Report ------------------------------ \n",
      "\n",
      "Test Size : Found 1265 validated image filenames.\n",
      "\n",
      "Report : \n",
      "\n",
      "F1_score macro: 0.7804413946088472\n",
      "Accuracy:  0.8102766798418972\n"
     ]
    }
   ],
   "source": [
    "####################################################################################\n",
    "############# Executer les fonctions utiles à la fin du notebook avant #############\n",
    "####################################################################################\n",
    "report = report_evaluation(model, test, train['label_name'].cat.categories.tolist())"
   ]
  },
  {
   "cell_type": "markdown",
   "metadata": {},
   "source": [
    "## Annexe :  Fonctions utiles"
   ]
  },
  {
   "cell_type": "code",
   "execution_count": 39,
   "metadata": {},
   "outputs": [],
   "source": [
    "def plot_history(hist, name = \"Training\"):\n",
    "    print(\"-\"*30, name, \"-\"*30)\n",
    "    plt.figure(figsize=(25,5))\n",
    "    \n",
    "    plt.subplot(1,2,1)\n",
    "    plt.plot(hist.history[\"loss\"])\n",
    "    plt.plot(hist.history[\"val_loss\"])\n",
    "    plt.title(\"Loss\")\n",
    "    plt.ylabel(\"loss\")\n",
    "    plt.xlabel(\"epoch\")\n",
    "    plt.legend([\"train\",\"validation\"], loc=\"upper left\")\n",
    "    \n",
    "    plt.subplot(1,2,2)\n",
    "    plt.plot(hist.history[\"f1_score\"])\n",
    "    plt.plot(hist.history[\"val_f1_score\"])\n",
    "    plt.title(\"F1 - Score\")\n",
    "    plt.ylabel(\"score\")\n",
    "    plt.xlabel(\"epoch\")\n",
    "    plt.legend([\"train\",\"validation\"], loc=\"upper left\")\n",
    "    \n",
    "    plt.show()"
   ]
  },
  {
   "cell_type": "code",
   "execution_count": 40,
   "metadata": {},
   "outputs": [],
   "source": [
    "def report_evaluation(model, test_df, class_indices, image_size=120, batch_size=32, verbose = 1):\n",
    "    \n",
    "    if verbose > 0:\n",
    "        print(\"-\"*30,\"Evaluation Report\",\"-\"*30,\"\\n\")\n",
    "    datagen_test = ImageDataGenerator()\n",
    "    \n",
    "    if verbose > 0:\n",
    "        print(\"Test Size :\", end=' ')\n",
    "    test_generator = datagen_test.flow_from_dataframe(dataframe=test_df, \n",
    "        x_col=\"name\",\n",
    "        shuffle=False,\n",
    "        target_size=(image_size,image_size), \n",
    "        batch_size=batch_size,\n",
    "        class_mode=None,\n",
    "        rescale=1.0/255,\n",
    "        seed=2020 )\n",
    "    \n",
    "    if verbose > 0:\n",
    "        print(\"\\nReport : \\n\")\n",
    "    probabilities = model.predict(test_generator)\n",
    "    y_pred = np.argmax(probabilities,1)\n",
    "    y_test = np.array(test_df[\"label\"])\n",
    "    \n",
    "    score_f1 = f1_score(y_test, y_pred, average=\"macro\")\n",
    "    score_acc = accuracy_score(y_test, y_pred)\n",
    "    \n",
    "    if verbose > 0:\n",
    "        print(\"F1_score macro:\", score_f1)\n",
    "        print(\"Accuracy: \", score_acc)\n",
    "    \n",
    "    return score_f1, score_acc, y_pred, y_test, np.max(probabilities,1)"
   ]
  },
  {
   "cell_type": "code",
   "execution_count": null,
   "metadata": {},
   "outputs": [],
   "source": []
  }
 ],
 "metadata": {
  "kernelspec": {
   "display_name": "Python 3",
   "language": "python",
   "name": "python3"
  },
  "language_info": {
   "codemirror_mode": {
    "name": "ipython",
    "version": 3
   },
   "file_extension": ".py",
   "mimetype": "text/x-python",
   "name": "python",
   "nbconvert_exporter": "python",
   "pygments_lexer": "ipython3",
   "version": "3.8.3"
  }
 },
 "nbformat": 4,
 "nbformat_minor": 4
}
