{
 "cells": [
  {
   "cell_type": "markdown",
   "metadata": {},
   "source": [
    "# Test Technique  (bonus)\n",
    "\n",
    "**Author:** [Yannis Tannier](https://github.com/yannistannier)<br>\n",
    "**Date created:** 2021/10/16<br>\n",
    "**Last modified:** 2021/10/19<br>"
   ]
  },
  {
   "cell_type": "markdown",
   "metadata": {},
   "source": [
    "## SubType Robustness : Entrainement avec test de robustesse (Sous classes)"
   ]
  },
  {
   "cell_type": "code",
   "execution_count": 1,
   "metadata": {},
   "outputs": [],
   "source": [
    "import os\n",
    "import numpy as np\n",
    "import pandas as pd\n",
    "import glob\n",
    "from sklearn.model_selection import train_test_split\n",
    "import tensorflow as tf\n",
    "import tensorflow_addons as tfa\n",
    "from tensorflow import keras\n",
    "from tensorflow.keras.models import Sequential\n",
    "from tensorflow.keras import layers\n",
    "from tensorflow.keras.applications import EfficientNetB0, EfficientNetB4\n",
    "from tensorflow.keras import metrics\n",
    "from keras.preprocessing.image import ImageDataGenerator\n",
    "from sklearn.metrics import classification_report, f1_score, accuracy_score\n",
    "import matplotlib.pyplot as plt"
   ]
  },
  {
   "cell_type": "code",
   "execution_count": 2,
   "metadata": {},
   "outputs": [
    {
     "name": "stdout",
     "output_type": "stream",
     "text": [
      "Num GPUs Available:  2\n"
     ]
    }
   ],
   "source": [
    "print(\"Num GPUs Available: \", len(tf.config.list_physical_devices('GPU')))"
   ]
  },
  {
   "cell_type": "markdown",
   "metadata": {},
   "source": [
    "On définit nos hyperparamètres "
   ]
  },
  {
   "cell_type": "code",
   "execution_count": 8,
   "metadata": {},
   "outputs": [],
   "source": [
    "BATCH_SIZE = 32\n",
    "NUM_CLASSES = 50\n",
    "IMG_SIZE = 120"
   ]
  },
  {
   "cell_type": "markdown",
   "metadata": {},
   "source": [
    "On doit à présent récupérer notre jeu d'entrainement et le devisier en fonction des labels de test references :"
   ]
  },
  {
   "cell_type": "code",
   "execution_count": 9,
   "metadata": {},
   "outputs": [],
   "source": [
    "test_references = [\"small_airplane\", \"top_with_upwards_arrow_above\", \"soccer_ball\", \"duck\", \"hatching_chick\", \"crossed_swords\",\n",
    "\"passenger_ship\", \"ledger\", \"books\", \"derelict_house_building\", \"convenience_store\", \"rabbit_face\",\n",
    "\"cartwheel_type_6\", \"mantelpiece_clock\", \"watch\", \"sun_behind_cloud_with_rain\", \"wine_glass\",\n",
    "\"face_throwing_a_kiss\", \"e_mail_symbol\", \"family_man_boy\", \"family_man_girl\", \"family_man_boy_boy\",\n",
    "\"family_man_girl_boy\", \"family_man_girl_girl\", \"monorail\", \"leopard\", \"chequered_flag\", \"tulip\", \"womans_sandal\",\n",
    "\"victory_hand\", \"womans_hat\", \"broken_heart\", \"unified_ideograph_5408\", \"circled_ideograph_accept\",\n",
    "\"closed_lock_with_key\", \"open_mailbox_with_lowered_flag\", \"shark\", \"military_medal\", \"banknote_with_dollar_sign\",\n",
    "\"monkey\", \"crescent_moon\", \"mount_fuji\", \"mobile_phone_off\", \"no_smoking_symbol\", \"glowing_star\", \"evergreen_tree\",\n",
    "\"umbrella_with_rain_drops\", \"racing_car\", \"factory_worker\", \"pencil\"]"
   ]
  },
  {
   "cell_type": "code",
   "execution_count": 10,
   "metadata": {},
   "outputs": [],
   "source": [
    "csv = []\n",
    "for image in glob.glob(os.path.join(\"./Icons-50/\", \"*\", \"*.png\")):\n",
    "    \n",
    "    info = os.path.basename(image).split(\"_\")\n",
    "    compary = info[0]\n",
    "    style = \"_\".join(info[2:])[:-4]\n",
    "    \n",
    "    train_test = \"train\"\n",
    "    if style in test_references:\n",
    "        train_test = \"test\"\n",
    "        \n",
    "    csv.append({\"name\": image, \"label_name\": image.split(\"/\")[-2], \"type\": train_test})"
   ]
  },
  {
   "cell_type": "code",
   "execution_count": 11,
   "metadata": {},
   "outputs": [],
   "source": [
    "df = pd.DataFrame(csv)"
   ]
  },
  {
   "cell_type": "code",
   "execution_count": 12,
   "metadata": {},
   "outputs": [],
   "source": [
    "train = df[df[\"type\"] == \"train\"]\n",
    "test = df[df[\"type\"] == \"test\"]"
   ]
  },
  {
   "cell_type": "markdown",
   "metadata": {},
   "source": [
    "On ajoute au jeux d'entrainement les images augmentées provenant uniquement du jeu d'entrainement :"
   ]
  },
  {
   "cell_type": "code",
   "execution_count": 13,
   "metadata": {},
   "outputs": [],
   "source": [
    "data_augmix = pd.read_csv(\"data_augmix.csv\")\n",
    "\n",
    "train = train.append(\n",
    "    data_augmix[data_augmix[\"source\"].isin(train[\"name\"])]\n",
    ")"
   ]
  },
  {
   "cell_type": "code",
   "execution_count": 1,
   "metadata": {},
   "outputs": [],
   "source": [
    "train[\"label_name\"] = pd.Categorical(train[\"label_name\"])\n",
    "test[\"label_name\"] = pd.Categorical(test[\"label_name\"])"
   ]
  },
  {
   "cell_type": "code",
   "execution_count": 2,
   "metadata": {},
   "outputs": [],
   "source": [
    "test[\"label\"] = test[\"label_name\"].cat.codes"
   ]
  },
  {
   "cell_type": "code",
   "execution_count": 16,
   "metadata": {},
   "outputs": [
    {
     "data": {
      "text/plain": [
       "(22703, 962)"
      ]
     },
     "execution_count": 16,
     "metadata": {},
     "output_type": "execute_result"
    }
   ],
   "source": [
    "len(train), len(test)"
   ]
  },
  {
   "cell_type": "code",
   "execution_count": 17,
   "metadata": {},
   "outputs": [],
   "source": [
    "classes_indices = { l: x for x,l in enumerate(train[\"label_name\"].cat.categories)}"
   ]
  },
  {
   "cell_type": "code",
   "execution_count": 3,
   "metadata": {},
   "outputs": [],
   "source": [
    "train[\"label\"] = [ classes_indices[x] for x in train[\"label_name\"]]\n",
    "test[\"label\"] = [ classes_indices[x] for x in test[\"label_name\"]]"
   ]
  },
  {
   "cell_type": "code",
   "execution_count": 161,
   "metadata": {},
   "outputs": [],
   "source": [
    "train.to_csv(\"train_ref.csv\", index=False)\n",
    "test.to_csv(\"test_ref.csv\", index=False)"
   ]
  },
  {
   "cell_type": "markdown",
   "metadata": {},
   "source": [
    "Notre première approche consiste en un fine-tuning d'un EfficientNet-B0.   \n",
    "\n",
    "Pour cela nous importons **EfficientNetB0** de keras application avec le paramètre weights à \"imagenet\" car nous voulons importer les poids du modèle entrainé sur ImageNet. ImageNet étant une base de données composées de plus d'un million d'images, les valeurs des kernels (= les poids du modèle) appris sur ImageNet sont de la grande valeur. Même si notre jeu de données ne ressemble pas exactement aux images d'ImageNet, il est souvent plus intéressant de récupérer les poids d'un modèle entrainé sur ImageNet que d'initialiser les poids de façon aléatoire.   \n",
    "\n",
    "On ajoute 4 couches après notre backbone (EfficientNetB0):    \n",
    "- Une couche de GlobalAveragePooling2D pour réduire la dimension des features maps de sortie du backbone et également \"aplatir\" la matrice (l'équivalent d'un reshape d'une matrice 3D à 2D)\n",
    "- Suivi d'une couche de BatchNormalization qui fait office de régularisation\n",
    "- Puis d'une couche de Dropout, toujours pour régulariser notre réseau\n",
    "- Et enfin une couche de Dense avec softmax avec N (le nombre de neurones) égale à notre nombre de label\n",
    "\n",
    "L'entrainement se fera en 2 temps :    \n",
    "- Premièrement nous allons de freeze toutes les couches de notre backbone (les couches d'EfficientNetB0) et entrainer avec un important learning (1e-2) puis le baisser progressivement jusqu'à (1e-4). Nous faisons cela car nous allons ajouter de nouvelle couches à notre réseau et nous voulons d'abord entrainer ces nouvelles couches afin de ne pas trop modifier les valeurs des poids du réseau au début de l'apprentissage, là où l'erreur sera la plus grande et donc le gradient élevée lors de la back propagation.   \n",
    "\n",
    "\n",
    "- Dans un second temps, nous allons unfreeze la quasi-totalité du réseau et entrainer avec un faible learning rate (1e-4). Ce deuxième entrainement permet de spécialiser notre réseau dans son ensemble à la tache souhaitée."
   ]
  },
  {
   "cell_type": "code",
   "execution_count": 117,
   "metadata": {},
   "outputs": [],
   "source": [
    "def build_model(learning_rate=1e-2):\n",
    "    inputs = layers.Input(shape=(IMG_SIZE, IMG_SIZE, 3))\n",
    "    model = EfficientNetB0(include_top=False, input_tensor=inputs, weights=\"imagenet\")\n",
    "\n",
    "    # Freeze the pretrained weights\n",
    "    model.trainable = False\n",
    "    \n",
    "    output = model.output\n",
    "  \n",
    "    # Rebuild top\n",
    "    x = layers.GlobalAveragePooling2D(name=\"avg_pool\")(output)\n",
    "    x = layers.BatchNormalization()(x)\n",
    "\n",
    "    top_dropout_rate = 0.2\n",
    "    x = layers.Dropout(top_dropout_rate, name=\"top_dropout\")(x)\n",
    "    outputs = layers.Dense(50, activation=\"softmax\", name=\"logit\")(x)\n",
    "\n",
    "    # Compile\n",
    "    model = tf.keras.Model(inputs, outputs, name=\"EfficientNetb0\")\n",
    "    optimizer = tf.keras.optimizers.Adam(learning_rate=1e-2)\n",
    "    model.compile(\n",
    "        optimizer=optimizer, loss=\"categorical_crossentropy\", metrics=[\"accuracy\", tfa.metrics.F1Score(num_classes=NUM_CLASSES, average='macro')]\n",
    "    )\n",
    "    return model"
   ]
  },
  {
   "cell_type": "code",
   "execution_count": 132,
   "metadata": {},
   "outputs": [],
   "source": [
    "def run_train(model, train_generator, val_generator, epochs, save_weights=\"model_best.h5\", verbose=1):\n",
    "    def scheduler(epoch, lr):\n",
    "        if epoch < 10:\n",
    "            return lr\n",
    "        if epoch < 70:\n",
    "            return lr*0.1\n",
    "        return lr*0.01\n",
    "\n",
    "    if verbose > 0:\n",
    "        print(\"First Training : Backbone freeze\\n\")\n",
    "    \n",
    "    freeze_hist = model.fit(train_generator, \n",
    "                            epochs=epochs, \n",
    "                            validation_data=val_generator, \n",
    "                            verbose=verbose,\n",
    "                            use_multiprocessing = True,\n",
    "                            max_queue_size=20,\n",
    "                            workers = 20,\n",
    "                            callbacks=[\n",
    "                                tf.keras.callbacks.LearningRateScheduler(scheduler)\n",
    "                            ])\n",
    "    \n",
    "    if verbose > 0:\n",
    "        print(\"Second Training : Unfreeze all network and train with a small learning rate\\n\")\n",
    "    \n",
    "    for layer in model.layers[-20:]:\n",
    "        if not isinstance(layer, layers.BatchNormalization):\n",
    "            layer.trainable = True\n",
    "\n",
    "    optimizer = tf.keras.optimizers.Adam(learning_rate=1e-4)\n",
    "    model.compile(\n",
    "        optimizer=optimizer, \n",
    "        loss=\"categorical_crossentropy\", \n",
    "        metrics=[\"accuracy\", \n",
    "            tfa.metrics.F1Score(num_classes=50, average='macro')\n",
    "        ]\n",
    "    )\n",
    "    \n",
    "    hist = model.fit(train_generator, \n",
    "                     epochs=60, \n",
    "                     validation_data=val_generator, \n",
    "                     verbose=verbose,\n",
    "                     use_multiprocessing = True,\n",
    "                     max_queue_size=20,\n",
    "                     workers = 20,\n",
    "                     callbacks=[\n",
    "                         tf.keras.callbacks.ModelCheckpoint(filepath=save_weights, \n",
    "                                                            save_best_only=True, \n",
    "                                                            monitor=\"val_loss\"),\n",
    "                     ])\n",
    "    \n",
    "    return hist, freeze_hist"
   ]
  },
  {
   "cell_type": "markdown",
   "metadata": {},
   "source": [
    "Maintenant on prépare notre fonction d'entrainement avec notre workflow de données :   \n",
    "- Nous utilisons **ImageDataGenerator** mais nous definissons aucune augmentation.   \n",
    "- Ensuite, nous utilisons la fonction flow_from_dataframe pour lier notre Generator à notre base d'entrainement.  \n",
    "\n",
    "Dans la fonction **fit** nous devons définir trois paramètres importants afin d'avoir un workflow optimisé :    \n",
    "- use_multiprocessing à True\n",
    "- workers à 14 (A remplir en fonction du nombre de threads disponibles sur le CPU)\n",
    "- max_queue_size > 10\n",
    "\n",
    "Ces paramètres vont permettre au pipeline de prefetch les données lors de l'entrainement, ainsi le CPU va préparer les batchs d'image (avec augmentations) pendant le GPU fera l'entrainement. Prefetch les batchs en parallèle du GPU permet d'avoir un workflow optimisé ou le GPU est à 100% d'utilisation constante et de ne surtout pas créer de bottleneck ( à savoir le moment ou le GPU ne procède plus à l'entrainement car il attend le batch d'image du CPU )"
   ]
  },
  {
   "cell_type": "code",
   "execution_count": 133,
   "metadata": {},
   "outputs": [],
   "source": [
    "def training(train_df, val_df, save_weights, epochs=200, verbose=1):\n",
    "    \n",
    "    if verbose > 0:\n",
    "        print(\"Create ImageDataGenerator .. \\n\")\n",
    "    \n",
    "    \n",
    "    labels = train_df[\"label_name\"].cat.categories.tolist()\n",
    "        \n",
    "    train_datagen = ImageDataGenerator(\n",
    "        rotation_range=20, # rotation\n",
    "        width_shift_range=0.2, # horizontal shift\n",
    "        height_shift_range=0.2, # vertical shift\n",
    "        zoom_range=0.2, # zoom\n",
    "        horizontal_flip=True, # horizontal flip\n",
    "        vertical_flip=True,\n",
    "        channel_shift_range=0.3,\n",
    "        brightness_range=[0.2,1.2]) # brightness\n",
    "\n",
    "    datagen_val = ImageDataGenerator()\n",
    "    \n",
    "    train_generator = train_datagen.flow_from_dataframe(dataframe=train_df, \n",
    "        directory=\"\",\n",
    "        x_col=\"name\", \n",
    "        y_col=\"label_name\", \n",
    "        class_mode=\"categorical\",\n",
    "        classes = labels,\n",
    "        target_size=(IMG_SIZE, IMG_SIZE), \n",
    "        batch_size=BATCH_SIZE,\n",
    "        rescale=1.0/255,\n",
    "        seed=2020\n",
    "    )\n",
    "    \n",
    "    val_generator = datagen_val.flow_from_dataframe(dataframe=val_df, \n",
    "      directory=\"\",\n",
    "      x_col=\"name\", \n",
    "      y_col=\"label_name\", \n",
    "      class_mode=\"categorical\", \n",
    "      classes = labels,\n",
    "      target_size=(IMG_SIZE, IMG_SIZE), \n",
    "      batch_size=BATCH_SIZE,\n",
    "      rescale=1.0/255,\n",
    "      seed=2020\n",
    "    )\n",
    "    if verbose > 0:\n",
    "        print(\"\\nBuild model .. \\n\")\n",
    "        \n",
    "    model = build_model()\n",
    "    if verbose > 0:\n",
    "        print(\"\\nRun training .. \\n\")\n",
    "        \n",
    "    hist, freeze_hist = run_train(model, \n",
    "                            train_generator, \n",
    "                            val_generator, \n",
    "                            epochs=epochs,\n",
    "                            save_weights=save_weights,\n",
    "                            verbose = verbose\n",
    "                        )\n",
    "    \n",
    "    return hist, freeze_hist"
   ]
  },
  {
   "cell_type": "markdown",
   "metadata": {},
   "source": [
    "On peut procéder à l'apprentissage : "
   ]
  },
  {
   "cell_type": "code",
   "execution_count": 134,
   "metadata": {
    "scrolled": true
   },
   "outputs": [
    {
     "name": "stdout",
     "output_type": "stream",
     "text": [
      "Create ImageDataGenerator .. \n",
      "\n",
      "Found 22703 validated image filenames belonging to 50 classes.\n",
      "Found 962 validated image filenames belonging to 50 classes.\n",
      "\n",
      "Build model .. \n",
      "\n",
      "\n",
      "Run training .. \n",
      "\n",
      "First Training : Backbone freeze\n",
      "\n",
      "Epoch 1/100\n",
      "710/710 [==============================] - 28s 31ms/step - loss: 1.3039 - accuracy: 0.7525 - f1_score: 0.7497 - val_loss: 2.3962 - val_accuracy: 0.6445 - val_f1_score: 0.4829\n",
      "Epoch 2/100\n",
      "710/710 [==============================] - 24s 31ms/step - loss: 0.7448 - accuracy: 0.8322 - f1_score: 0.8309 - val_loss: 2.1832 - val_accuracy: 0.6705 - val_f1_score: 0.5012\n",
      "Epoch 3/100\n",
      "710/710 [==============================] - 23s 30ms/step - loss: 0.6254 - accuracy: 0.8508 - f1_score: 0.8497 - val_loss: 2.1288 - val_accuracy: 0.6778 - val_f1_score: 0.5023\n",
      "Epoch 4/100\n",
      "710/710 [==============================] - 25s 32ms/step - loss: 0.6064 - accuracy: 0.8535 - f1_score: 0.8520 - val_loss: 1.9558 - val_accuracy: 0.6674 - val_f1_score: 0.4998\n",
      "Epoch 5/100\n",
      "710/710 [==============================] - 24s 31ms/step - loss: 0.6261 - accuracy: 0.8539 - f1_score: 0.8526 - val_loss: 2.0981 - val_accuracy: 0.6746 - val_f1_score: 0.4984\n",
      "Epoch 6/100\n",
      "710/710 [==============================] - 24s 32ms/step - loss: 0.6520 - accuracy: 0.8531 - f1_score: 0.8516 - val_loss: 2.2611 - val_accuracy: 0.6674 - val_f1_score: 0.4985\n",
      "Epoch 7/100\n",
      "710/710 [==============================] - 23s 30ms/step - loss: 0.6736 - accuracy: 0.8546 - f1_score: 0.8532 - val_loss: 2.7618 - val_accuracy: 0.6611 - val_f1_score: 0.4973\n",
      "Epoch 8/100\n",
      "710/710 [==============================] - 24s 30ms/step - loss: 0.7126 - accuracy: 0.8543 - f1_score: 0.8533 - val_loss: 2.7114 - val_accuracy: 0.6549 - val_f1_score: 0.4775\n",
      "Epoch 9/100\n",
      "710/710 [==============================] - 25s 31ms/step - loss: 0.7097 - accuracy: 0.8589 - f1_score: 0.8580 - val_loss: 2.6782 - val_accuracy: 0.6705 - val_f1_score: 0.4983\n",
      "Epoch 10/100\n",
      "710/710 [==============================] - 24s 31ms/step - loss: 0.7093 - accuracy: 0.8610 - f1_score: 0.8600 - val_loss: 2.6219 - val_accuracy: 0.6694 - val_f1_score: 0.4998\n",
      "Epoch 11/100\n",
      "710/710 [==============================] - 25s 32ms/step - loss: 0.5024 - accuracy: 0.8942 - f1_score: 0.8935 - val_loss: 2.0761 - val_accuracy: 0.7089 - val_f1_score: 0.5316\n",
      "Epoch 12/100\n",
      "710/710 [==============================] - 24s 32ms/step - loss: 0.4212 - accuracy: 0.9064 - f1_score: 0.9052 - val_loss: 2.0265 - val_accuracy: 0.7131 - val_f1_score: 0.5341\n",
      "Epoch 13/100\n",
      "710/710 [==============================] - 25s 33ms/step - loss: 0.4023 - accuracy: 0.9094 - f1_score: 0.9086 - val_loss: 2.0278 - val_accuracy: 0.7141 - val_f1_score: 0.5342\n",
      "Epoch 14/100\n",
      "710/710 [==============================] - 24s 31ms/step - loss: 0.4070 - accuracy: 0.9061 - f1_score: 0.9054 - val_loss: 2.0296 - val_accuracy: 0.7121 - val_f1_score: 0.5342\n",
      "Epoch 15/100\n",
      "710/710 [==============================] - 24s 31ms/step - loss: 0.4091 - accuracy: 0.9075 - f1_score: 0.9065 - val_loss: 2.0313 - val_accuracy: 0.7121 - val_f1_score: 0.5334\n",
      "Epoch 16/100\n",
      "710/710 [==============================] - 24s 31ms/step - loss: 0.4083 - accuracy: 0.9054 - f1_score: 0.9046 - val_loss: 2.0397 - val_accuracy: 0.7141 - val_f1_score: 0.5348\n",
      "Epoch 17/100\n",
      "710/710 [==============================] - 25s 31ms/step - loss: 0.4316 - accuracy: 0.9041 - f1_score: 0.9031 - val_loss: 2.0259 - val_accuracy: 0.7131 - val_f1_score: 0.5330\n",
      "Epoch 18/100\n",
      "710/710 [==============================] - 25s 32ms/step - loss: 0.4134 - accuracy: 0.9060 - f1_score: 0.9053 - val_loss: 2.0319 - val_accuracy: 0.7141 - val_f1_score: 0.5348\n",
      "Epoch 19/100\n",
      "710/710 [==============================] - 24s 31ms/step - loss: 0.4140 - accuracy: 0.9086 - f1_score: 0.9078 - val_loss: 2.0264 - val_accuracy: 0.7110 - val_f1_score: 0.5328\n",
      "Epoch 20/100\n",
      "710/710 [==============================] - 25s 32ms/step - loss: 0.4189 - accuracy: 0.9084 - f1_score: 0.9076 - val_loss: 2.0343 - val_accuracy: 0.7110 - val_f1_score: 0.5330\n",
      "Epoch 21/100\n",
      "710/710 [==============================] - 25s 33ms/step - loss: 0.4013 - accuracy: 0.9083 - f1_score: 0.9077 - val_loss: 2.0381 - val_accuracy: 0.7152 - val_f1_score: 0.5348\n",
      "Epoch 22/100\n",
      "710/710 [==============================] - 24s 31ms/step - loss: 0.4255 - accuracy: 0.9056 - f1_score: 0.9048 - val_loss: 2.0370 - val_accuracy: 0.7152 - val_f1_score: 0.5358\n",
      "Epoch 23/100\n",
      "710/710 [==============================] - 25s 32ms/step - loss: 0.4148 - accuracy: 0.9072 - f1_score: 0.9064 - val_loss: 2.0339 - val_accuracy: 0.7121 - val_f1_score: 0.5327\n",
      "Epoch 24/100\n",
      "710/710 [==============================] - 24s 31ms/step - loss: 0.4179 - accuracy: 0.9059 - f1_score: 0.9050 - val_loss: 2.0305 - val_accuracy: 0.7162 - val_f1_score: 0.5364\n",
      "Epoch 25/100\n",
      "710/710 [==============================] - 24s 31ms/step - loss: 0.4006 - accuracy: 0.9073 - f1_score: 0.9065 - val_loss: 2.0320 - val_accuracy: 0.7131 - val_f1_score: 0.5338\n",
      "Epoch 26/100\n",
      "710/710 [==============================] - 25s 32ms/step - loss: 0.4149 - accuracy: 0.9070 - f1_score: 0.9062 - val_loss: 2.0337 - val_accuracy: 0.7121 - val_f1_score: 0.5327\n",
      "Epoch 27/100\n",
      "710/710 [==============================] - 25s 32ms/step - loss: 0.4027 - accuracy: 0.9087 - f1_score: 0.9081 - val_loss: 2.0310 - val_accuracy: 0.7131 - val_f1_score: 0.5333\n",
      "Epoch 28/100\n",
      "710/710 [==============================] - 25s 32ms/step - loss: 0.4078 - accuracy: 0.9072 - f1_score: 0.9066 - val_loss: 2.0416 - val_accuracy: 0.7131 - val_f1_score: 0.5330\n",
      "Epoch 29/100\n",
      "710/710 [==============================] - 24s 32ms/step - loss: 0.4268 - accuracy: 0.9045 - f1_score: 0.9034 - val_loss: 2.0393 - val_accuracy: 0.7121 - val_f1_score: 0.5331\n",
      "Epoch 30/100\n",
      "710/710 [==============================] - 26s 33ms/step - loss: 0.4156 - accuracy: 0.9061 - f1_score: 0.9056 - val_loss: 2.0493 - val_accuracy: 0.7110 - val_f1_score: 0.5321\n",
      "Epoch 31/100\n",
      "710/710 [==============================] - 24s 31ms/step - loss: 0.4197 - accuracy: 0.9068 - f1_score: 0.9058 - val_loss: 2.0279 - val_accuracy: 0.7121 - val_f1_score: 0.5325\n",
      "Epoch 32/100\n",
      "710/710 [==============================] - 26s 33ms/step - loss: 0.4173 - accuracy: 0.9058 - f1_score: 0.9052 - val_loss: 2.0484 - val_accuracy: 0.7152 - val_f1_score: 0.5358\n",
      "Epoch 33/100\n",
      "710/710 [==============================] - 24s 31ms/step - loss: 0.4011 - accuracy: 0.9098 - f1_score: 0.9089 - val_loss: 2.0285 - val_accuracy: 0.7121 - val_f1_score: 0.5331\n",
      "Epoch 34/100\n",
      "710/710 [==============================] - 25s 32ms/step - loss: 0.4271 - accuracy: 0.9053 - f1_score: 0.9042 - val_loss: 2.0357 - val_accuracy: 0.7141 - val_f1_score: 0.5347\n",
      "Epoch 35/100\n",
      "710/710 [==============================] - 25s 32ms/step - loss: 0.4001 - accuracy: 0.9061 - f1_score: 0.9052 - val_loss: 2.0489 - val_accuracy: 0.7121 - val_f1_score: 0.5324\n",
      "Epoch 36/100\n",
      "710/710 [==============================] - 26s 32ms/step - loss: 0.4255 - accuracy: 0.9042 - f1_score: 0.9036 - val_loss: 2.0440 - val_accuracy: 0.7162 - val_f1_score: 0.5355\n",
      "Epoch 37/100\n",
      "710/710 [==============================] - 24s 31ms/step - loss: 0.4086 - accuracy: 0.9087 - f1_score: 0.9080 - val_loss: 2.0398 - val_accuracy: 0.7152 - val_f1_score: 0.5348\n",
      "Epoch 38/100\n",
      "710/710 [==============================] - 25s 32ms/step - loss: 0.4245 - accuracy: 0.9040 - f1_score: 0.9032 - val_loss: 2.0441 - val_accuracy: 0.7131 - val_f1_score: 0.5342\n",
      "Epoch 39/100\n",
      "710/710 [==============================] - 25s 32ms/step - loss: 0.4127 - accuracy: 0.9053 - f1_score: 0.9044 - val_loss: 2.0326 - val_accuracy: 0.7152 - val_f1_score: 0.5347\n",
      "Epoch 40/100\n",
      "710/710 [==============================] - 24s 30ms/step - loss: 0.4078 - accuracy: 0.9094 - f1_score: 0.9085 - val_loss: 2.0367 - val_accuracy: 0.7131 - val_f1_score: 0.5338\n",
      "Epoch 41/100\n",
      "710/710 [==============================] - 25s 32ms/step - loss: 0.4010 - accuracy: 0.9090 - f1_score: 0.9082 - val_loss: 2.0377 - val_accuracy: 0.7131 - val_f1_score: 0.5347\n",
      "Epoch 42/100\n",
      "710/710 [==============================] - 25s 32ms/step - loss: 0.4148 - accuracy: 0.9068 - f1_score: 0.9062 - val_loss: 2.0346 - val_accuracy: 0.7162 - val_f1_score: 0.5354\n",
      "Epoch 43/100\n",
      "710/710 [==============================] - 25s 32ms/step - loss: 0.4134 - accuracy: 0.9100 - f1_score: 0.9093 - val_loss: 2.0315 - val_accuracy: 0.7152 - val_f1_score: 0.5357\n",
      "Epoch 44/100\n",
      "710/710 [==============================] - 25s 32ms/step - loss: 0.4178 - accuracy: 0.9068 - f1_score: 0.9061 - val_loss: 2.0236 - val_accuracy: 0.7131 - val_f1_score: 0.5333\n",
      "Epoch 45/100\n",
      "710/710 [==============================] - 25s 32ms/step - loss: 0.4071 - accuracy: 0.9079 - f1_score: 0.9069 - val_loss: 2.0335 - val_accuracy: 0.7141 - val_f1_score: 0.5347\n",
      "Epoch 46/100\n",
      "710/710 [==============================] - 25s 31ms/step - loss: 0.4055 - accuracy: 0.9084 - f1_score: 0.9076 - val_loss: 2.0397 - val_accuracy: 0.7121 - val_f1_score: 0.5335\n",
      "Epoch 47/100\n",
      "710/710 [==============================] - 25s 32ms/step - loss: 0.4136 - accuracy: 0.9063 - f1_score: 0.9053 - val_loss: 2.0258 - val_accuracy: 0.7152 - val_f1_score: 0.5364\n",
      "Epoch 48/100\n",
      "710/710 [==============================] - 25s 32ms/step - loss: 0.3979 - accuracy: 0.9091 - f1_score: 0.9087 - val_loss: 2.0347 - val_accuracy: 0.7131 - val_f1_score: 0.5334\n",
      "Epoch 49/100\n",
      "710/710 [==============================] - 26s 33ms/step - loss: 0.4047 - accuracy: 0.9091 - f1_score: 0.9084 - val_loss: 2.0369 - val_accuracy: 0.7121 - val_f1_score: 0.5326\n",
      "Epoch 50/100\n",
      "710/710 [==============================] - 24s 30ms/step - loss: 0.4135 - accuracy: 0.9072 - f1_score: 0.9064 - val_loss: 2.0347 - val_accuracy: 0.7173 - val_f1_score: 0.5369\n",
      "Epoch 51/100\n",
      "710/710 [==============================] - 25s 32ms/step - loss: 0.4054 - accuracy: 0.9084 - f1_score: 0.9077 - val_loss: 2.0237 - val_accuracy: 0.7141 - val_f1_score: 0.5337\n",
      "Epoch 52/100\n",
      "710/710 [==============================] - 27s 34ms/step - loss: 0.4170 - accuracy: 0.9068 - f1_score: 0.9060 - val_loss: 2.0381 - val_accuracy: 0.7141 - val_f1_score: 0.5355\n",
      "Epoch 53/100\n",
      "710/710 [==============================] - 25s 32ms/step - loss: 0.4170 - accuracy: 0.9057 - f1_score: 0.9049 - val_loss: 2.0354 - val_accuracy: 0.7121 - val_f1_score: 0.5320\n",
      "Epoch 54/100\n",
      "710/710 [==============================] - 25s 32ms/step - loss: 0.4157 - accuracy: 0.9057 - f1_score: 0.9048 - val_loss: 2.0240 - val_accuracy: 0.7121 - val_f1_score: 0.5336\n",
      "Epoch 55/100\n",
      "710/710 [==============================] - 28s 36ms/step - loss: 0.4149 - accuracy: 0.9083 - f1_score: 0.9075 - val_loss: 2.0405 - val_accuracy: 0.7131 - val_f1_score: 0.5329\n",
      "Epoch 56/100\n",
      "710/710 [==============================] - 26s 34ms/step - loss: 0.4220 - accuracy: 0.9064 - f1_score: 0.9054 - val_loss: 2.0356 - val_accuracy: 0.7131 - val_f1_score: 0.5326\n",
      "Epoch 57/100\n",
      "710/710 [==============================] - 25s 32ms/step - loss: 0.4066 - accuracy: 0.9059 - f1_score: 0.9054 - val_loss: 2.0354 - val_accuracy: 0.7141 - val_f1_score: 0.5337\n",
      "Epoch 58/100\n",
      "710/710 [==============================] - 26s 33ms/step - loss: 0.4150 - accuracy: 0.9065 - f1_score: 0.9057 - val_loss: 2.0350 - val_accuracy: 0.7162 - val_f1_score: 0.5361\n",
      "Epoch 59/100\n",
      "710/710 [==============================] - 26s 33ms/step - loss: 0.4102 - accuracy: 0.9080 - f1_score: 0.9072 - val_loss: 2.0386 - val_accuracy: 0.7121 - val_f1_score: 0.5332\n",
      "Epoch 60/100\n",
      "710/710 [==============================] - 26s 33ms/step - loss: 0.3997 - accuracy: 0.9086 - f1_score: 0.9076 - val_loss: 2.0266 - val_accuracy: 0.7131 - val_f1_score: 0.5344\n",
      "Epoch 61/100\n",
      "710/710 [==============================] - 26s 33ms/step - loss: 0.4039 - accuracy: 0.9094 - f1_score: 0.9085 - val_loss: 2.0465 - val_accuracy: 0.7152 - val_f1_score: 0.5355\n",
      "Epoch 62/100\n",
      "710/710 [==============================] - 25s 31ms/step - loss: 0.4183 - accuracy: 0.9057 - f1_score: 0.9048 - val_loss: 2.0462 - val_accuracy: 0.7141 - val_f1_score: 0.5344\n",
      "Epoch 63/100\n",
      "710/710 [==============================] - 25s 32ms/step - loss: 0.4197 - accuracy: 0.9061 - f1_score: 0.9052 - val_loss: 2.0399 - val_accuracy: 0.7131 - val_f1_score: 0.5337\n",
      "Epoch 64/100\n",
      "710/710 [==============================] - 26s 33ms/step - loss: 0.4085 - accuracy: 0.9071 - f1_score: 0.9063 - val_loss: 2.0391 - val_accuracy: 0.7141 - val_f1_score: 0.5351\n",
      "Epoch 65/100\n",
      "710/710 [==============================] - 26s 32ms/step - loss: 0.4203 - accuracy: 0.9063 - f1_score: 0.9055 - val_loss: 2.0363 - val_accuracy: 0.7152 - val_f1_score: 0.5350\n",
      "Epoch 66/100\n",
      "710/710 [==============================] - 26s 33ms/step - loss: 0.4012 - accuracy: 0.9068 - f1_score: 0.9059 - val_loss: 2.0382 - val_accuracy: 0.7100 - val_f1_score: 0.5312\n",
      "Epoch 67/100\n",
      "710/710 [==============================] - 26s 33ms/step - loss: 0.4137 - accuracy: 0.9069 - f1_score: 0.9058 - val_loss: 2.0327 - val_accuracy: 0.7152 - val_f1_score: 0.5357\n",
      "Epoch 68/100\n",
      "710/710 [==============================] - 27s 33ms/step - loss: 0.4125 - accuracy: 0.9102 - f1_score: 0.9094 - val_loss: 2.0309 - val_accuracy: 0.7162 - val_f1_score: 0.5359\n",
      "Epoch 69/100\n",
      "710/710 [==============================] - 25s 32ms/step - loss: 0.4242 - accuracy: 0.9062 - f1_score: 0.9053 - val_loss: 2.0428 - val_accuracy: 0.7152 - val_f1_score: 0.5350\n",
      "Epoch 70/100\n",
      "710/710 [==============================] - 25s 32ms/step - loss: 0.4002 - accuracy: 0.9089 - f1_score: 0.9080 - val_loss: 2.0346 - val_accuracy: 0.7121 - val_f1_score: 0.5337\n",
      "Epoch 71/100\n",
      "710/710 [==============================] - 25s 32ms/step - loss: 0.4196 - accuracy: 0.9095 - f1_score: 0.9085 - val_loss: 2.0356 - val_accuracy: 0.7173 - val_f1_score: 0.5370\n",
      "Epoch 72/100\n",
      "710/710 [==============================] - 27s 33ms/step - loss: 0.4095 - accuracy: 0.9066 - f1_score: 0.9058 - val_loss: 2.0426 - val_accuracy: 0.7131 - val_f1_score: 0.5341\n",
      "Epoch 73/100\n",
      "710/710 [==============================] - 28s 35ms/step - loss: 0.4133 - accuracy: 0.9048 - f1_score: 0.9039 - val_loss: 2.0423 - val_accuracy: 0.7141 - val_f1_score: 0.5345\n",
      "Epoch 74/100\n",
      "710/710 [==============================] - 27s 34ms/step - loss: 0.4043 - accuracy: 0.9095 - f1_score: 0.9087 - val_loss: 2.0326 - val_accuracy: 0.7152 - val_f1_score: 0.5359\n",
      "Epoch 75/100\n",
      "710/710 [==============================] - 26s 32ms/step - loss: 0.4269 - accuracy: 0.9072 - f1_score: 0.9065 - val_loss: 2.0223 - val_accuracy: 0.7173 - val_f1_score: 0.5361\n",
      "Epoch 76/100\n",
      "710/710 [==============================] - 25s 32ms/step - loss: 0.4151 - accuracy: 0.9075 - f1_score: 0.9068 - val_loss: 2.0217 - val_accuracy: 0.7152 - val_f1_score: 0.5347\n",
      "Epoch 77/100\n",
      "710/710 [==============================] - 27s 34ms/step - loss: 0.4088 - accuracy: 0.9066 - f1_score: 0.9056 - val_loss: 2.0260 - val_accuracy: 0.7131 - val_f1_score: 0.5335\n",
      "Epoch 78/100\n",
      "710/710 [==============================] - 25s 31ms/step - loss: 0.3956 - accuracy: 0.9080 - f1_score: 0.9076 - val_loss: 2.0298 - val_accuracy: 0.7162 - val_f1_score: 0.5361\n",
      "Epoch 79/100\n",
      "710/710 [==============================] - 27s 35ms/step - loss: 0.4134 - accuracy: 0.9062 - f1_score: 0.9055 - val_loss: 2.0411 - val_accuracy: 0.7141 - val_f1_score: 0.5361\n",
      "Epoch 80/100\n",
      "710/710 [==============================] - 27s 34ms/step - loss: 0.3975 - accuracy: 0.9075 - f1_score: 0.9066 - val_loss: 2.0332 - val_accuracy: 0.7121 - val_f1_score: 0.5326\n",
      "Epoch 81/100\n",
      "710/710 [==============================] - 28s 36ms/step - loss: 0.4205 - accuracy: 0.9039 - f1_score: 0.9033 - val_loss: 2.0378 - val_accuracy: 0.7162 - val_f1_score: 0.5363\n",
      "Epoch 82/100\n",
      "710/710 [==============================] - 27s 34ms/step - loss: 0.4043 - accuracy: 0.9070 - f1_score: 0.9063 - val_loss: 2.0301 - val_accuracy: 0.7110 - val_f1_score: 0.5319\n",
      "Epoch 83/100\n",
      "710/710 [==============================] - 25s 31ms/step - loss: 0.4044 - accuracy: 0.9058 - f1_score: 0.9053 - val_loss: 2.0302 - val_accuracy: 0.7162 - val_f1_score: 0.5362\n",
      "Epoch 84/100\n",
      "710/710 [==============================] - 26s 33ms/step - loss: 0.4123 - accuracy: 0.9060 - f1_score: 0.9054 - val_loss: 2.0368 - val_accuracy: 0.7141 - val_f1_score: 0.5340\n",
      "Epoch 85/100\n",
      "710/710 [==============================] - 26s 32ms/step - loss: 0.4080 - accuracy: 0.9081 - f1_score: 0.9074 - val_loss: 2.0220 - val_accuracy: 0.7121 - val_f1_score: 0.5327\n",
      "Epoch 86/100\n",
      "710/710 [==============================] - 29s 36ms/step - loss: 0.3910 - accuracy: 0.9099 - f1_score: 0.9094 - val_loss: 2.0318 - val_accuracy: 0.7131 - val_f1_score: 0.5336\n",
      "Epoch 87/100\n",
      "710/710 [==============================] - 27s 34ms/step - loss: 0.4178 - accuracy: 0.9054 - f1_score: 0.9044 - val_loss: 2.0430 - val_accuracy: 0.7162 - val_f1_score: 0.5365\n",
      "Epoch 88/100\n",
      "710/710 [==============================] - 27s 34ms/step - loss: 0.4261 - accuracy: 0.9063 - f1_score: 0.9056 - val_loss: 2.0373 - val_accuracy: 0.7141 - val_f1_score: 0.5343\n",
      "Epoch 89/100\n",
      "710/710 [==============================] - 27s 33ms/step - loss: 0.4209 - accuracy: 0.9057 - f1_score: 0.9048 - val_loss: 2.0423 - val_accuracy: 0.7141 - val_f1_score: 0.5347\n",
      "Epoch 90/100\n",
      "710/710 [==============================] - 26s 33ms/step - loss: 0.4115 - accuracy: 0.9055 - f1_score: 0.9046 - val_loss: 2.0413 - val_accuracy: 0.7110 - val_f1_score: 0.5320\n",
      "Epoch 91/100\n",
      "710/710 [==============================] - 26s 32ms/step - loss: 0.4113 - accuracy: 0.9075 - f1_score: 0.9066 - val_loss: 2.0286 - val_accuracy: 0.7152 - val_f1_score: 0.5358\n",
      "Epoch 92/100\n",
      "710/710 [==============================] - 26s 33ms/step - loss: 0.4035 - accuracy: 0.9097 - f1_score: 0.9088 - val_loss: 2.0395 - val_accuracy: 0.7162 - val_f1_score: 0.5362\n",
      "Epoch 93/100\n",
      "710/710 [==============================] - 27s 33ms/step - loss: 0.4294 - accuracy: 0.9044 - f1_score: 0.9037 - val_loss: 2.0371 - val_accuracy: 0.7141 - val_f1_score: 0.5338\n",
      "Epoch 94/100\n",
      "710/710 [==============================] - 26s 32ms/step - loss: 0.4049 - accuracy: 0.9071 - f1_score: 0.9062 - val_loss: 2.0397 - val_accuracy: 0.7121 - val_f1_score: 0.5317\n",
      "Epoch 95/100\n",
      "710/710 [==============================] - 25s 32ms/step - loss: 0.3999 - accuracy: 0.9098 - f1_score: 0.9093 - val_loss: 2.0185 - val_accuracy: 0.7162 - val_f1_score: 0.5358\n",
      "Epoch 96/100\n",
      "710/710 [==============================] - 27s 34ms/step - loss: 0.4054 - accuracy: 0.9090 - f1_score: 0.9085 - val_loss: 2.0382 - val_accuracy: 0.7141 - val_f1_score: 0.5338\n",
      "Epoch 97/100\n",
      "710/710 [==============================] - 25s 32ms/step - loss: 0.4162 - accuracy: 0.9064 - f1_score: 0.9056 - val_loss: 2.0295 - val_accuracy: 0.7152 - val_f1_score: 0.5342\n",
      "Epoch 98/100\n",
      "710/710 [==============================] - 26s 34ms/step - loss: 0.4006 - accuracy: 0.9078 - f1_score: 0.9070 - val_loss: 2.0305 - val_accuracy: 0.7121 - val_f1_score: 0.5333\n",
      "Epoch 99/100\n",
      "710/710 [==============================] - 28s 36ms/step - loss: 0.4240 - accuracy: 0.9069 - f1_score: 0.9059 - val_loss: 2.0346 - val_accuracy: 0.7121 - val_f1_score: 0.5333\n",
      "Epoch 100/100\n",
      "710/710 [==============================] - 27s 33ms/step - loss: 0.4109 - accuracy: 0.9072 - f1_score: 0.9066 - val_loss: 2.0322 - val_accuracy: 0.7110 - val_f1_score: 0.5320\n",
      "Second Training : Unfreeze all network and train with a small learning rate\n",
      "\n",
      "Epoch 1/60\n",
      "710/710 [==============================] - 33s 38ms/step - loss: 0.3938 - accuracy: 0.9132 - f1_score: 0.9124 - val_loss: 1.9126 - val_accuracy: 0.7318 - val_f1_score: 0.5448\n"
     ]
    },
    {
     "name": "stderr",
     "output_type": "stream",
     "text": [
      "/home/yannis/anaconda3/lib/python3.8/site-packages/keras/utils/generic_utils.py:494: CustomMaskWarning: Custom mask layers require a config and must override get_config. When loading, the custom mask layer must be passed to the custom_objects argument.\n",
      "  warnings.warn('Custom mask layers require a config and must override '\n"
     ]
    },
    {
     "name": "stdout",
     "output_type": "stream",
     "text": [
      "Epoch 2/60\n",
      "710/710 [==============================] - 28s 37ms/step - loss: 0.2882 - accuracy: 0.9305 - f1_score: 0.9298 - val_loss: 1.9657 - val_accuracy: 0.7443 - val_f1_score: 0.5536\n",
      "Epoch 3/60\n",
      "710/710 [==============================] - 29s 36ms/step - loss: 0.2372 - accuracy: 0.9390 - f1_score: 0.9386 - val_loss: 2.0459 - val_accuracy: 0.7547 - val_f1_score: 0.5680\n",
      "Epoch 4/60\n",
      "710/710 [==============================] - 28s 37ms/step - loss: 0.2123 - accuracy: 0.9455 - f1_score: 0.9453 - val_loss: 1.9057 - val_accuracy: 0.7609 - val_f1_score: 0.5712\n",
      "Epoch 5/60\n",
      "710/710 [==============================] - 28s 36ms/step - loss: 0.1803 - accuracy: 0.9527 - f1_score: 0.9523 - val_loss: 1.8048 - val_accuracy: 0.7703 - val_f1_score: 0.5805\n",
      "Epoch 6/60\n",
      "710/710 [==============================] - 28s 37ms/step - loss: 0.1738 - accuracy: 0.9561 - f1_score: 0.9560 - val_loss: 1.7722 - val_accuracy: 0.7661 - val_f1_score: 0.5759\n",
      "Epoch 7/60\n",
      "710/710 [==============================] - 28s 37ms/step - loss: 0.1467 - accuracy: 0.9611 - f1_score: 0.9609 - val_loss: 1.8826 - val_accuracy: 0.7661 - val_f1_score: 0.5697\n",
      "Epoch 8/60\n",
      "710/710 [==============================] - 29s 36ms/step - loss: 0.1333 - accuracy: 0.9641 - f1_score: 0.9640 - val_loss: 1.7572 - val_accuracy: 0.7682 - val_f1_score: 0.5746\n",
      "Epoch 9/60\n",
      "710/710 [==============================] - 28s 37ms/step - loss: 0.1281 - accuracy: 0.9669 - f1_score: 0.9667 - val_loss: 1.7991 - val_accuracy: 0.7536 - val_f1_score: 0.5617\n",
      "Epoch 10/60\n",
      "710/710 [==============================] - 28s 36ms/step - loss: 0.1256 - accuracy: 0.9654 - f1_score: 0.9651 - val_loss: 1.7084 - val_accuracy: 0.7827 - val_f1_score: 0.5880\n",
      "Epoch 11/60\n",
      "710/710 [==============================] - 29s 37ms/step - loss: 0.1091 - accuracy: 0.9705 - f1_score: 0.9704 - val_loss: 1.6376 - val_accuracy: 0.7723 - val_f1_score: 0.5791\n",
      "Epoch 12/60\n",
      "710/710 [==============================] - 29s 37ms/step - loss: 0.1014 - accuracy: 0.9721 - f1_score: 0.9717 - val_loss: 1.6554 - val_accuracy: 0.7630 - val_f1_score: 0.5704\n",
      "Epoch 13/60\n",
      "710/710 [==============================] - 29s 37ms/step - loss: 0.0944 - accuracy: 0.9732 - f1_score: 0.9731 - val_loss: 1.6469 - val_accuracy: 0.7713 - val_f1_score: 0.5786\n",
      "Epoch 14/60\n",
      "710/710 [==============================] - 28s 36ms/step - loss: 0.0929 - accuracy: 0.9739 - f1_score: 0.9739 - val_loss: 1.7123 - val_accuracy: 0.7703 - val_f1_score: 0.5805\n",
      "Epoch 15/60\n",
      "710/710 [==============================] - 29s 37ms/step - loss: 0.0838 - accuracy: 0.9748 - f1_score: 0.9746 - val_loss: 1.5971 - val_accuracy: 0.7620 - val_f1_score: 0.5733\n",
      "Epoch 16/60\n",
      "710/710 [==============================] - 29s 37ms/step - loss: 0.0777 - accuracy: 0.9768 - f1_score: 0.9766 - val_loss: 1.5372 - val_accuracy: 0.7796 - val_f1_score: 0.5866\n",
      "Epoch 17/60\n",
      "710/710 [==============================] - 28s 36ms/step - loss: 0.0844 - accuracy: 0.9763 - f1_score: 0.9762 - val_loss: 1.5605 - val_accuracy: 0.7703 - val_f1_score: 0.5801\n",
      "Epoch 18/60\n",
      "710/710 [==============================] - 28s 36ms/step - loss: 0.0713 - accuracy: 0.9803 - f1_score: 0.9801 - val_loss: 1.5466 - val_accuracy: 0.7744 - val_f1_score: 0.5819\n",
      "Epoch 19/60\n",
      "710/710 [==============================] - 30s 38ms/step - loss: 0.0622 - accuracy: 0.9815 - f1_score: 0.9816 - val_loss: 1.6490 - val_accuracy: 0.7692 - val_f1_score: 0.5787\n",
      "Epoch 20/60\n",
      "710/710 [==============================] - 29s 36ms/step - loss: 0.0686 - accuracy: 0.9803 - f1_score: 0.9802 - val_loss: 1.6220 - val_accuracy: 0.7557 - val_f1_score: 0.5637\n",
      "Epoch 21/60\n",
      "710/710 [==============================] - 28s 36ms/step - loss: 0.0697 - accuracy: 0.9812 - f1_score: 0.9810 - val_loss: 1.6044 - val_accuracy: 0.7703 - val_f1_score: 0.5735\n",
      "Epoch 22/60\n",
      "710/710 [==============================] - 29s 36ms/step - loss: 0.0633 - accuracy: 0.9810 - f1_score: 0.9808 - val_loss: 1.7463 - val_accuracy: 0.7786 - val_f1_score: 0.5862\n",
      "Epoch 23/60\n",
      "710/710 [==============================] - 28s 36ms/step - loss: 0.0621 - accuracy: 0.9816 - f1_score: 0.9815 - val_loss: 1.6331 - val_accuracy: 0.7786 - val_f1_score: 0.5833\n",
      "Epoch 24/60\n",
      "710/710 [==============================] - 28s 36ms/step - loss: 0.0563 - accuracy: 0.9839 - f1_score: 0.9838 - val_loss: 1.5780 - val_accuracy: 0.7848 - val_f1_score: 0.5912\n",
      "Epoch 25/60\n",
      "710/710 [==============================] - 29s 36ms/step - loss: 0.0532 - accuracy: 0.9835 - f1_score: 0.9832 - val_loss: 1.7036 - val_accuracy: 0.7744 - val_f1_score: 0.5800\n",
      "Epoch 26/60\n",
      "710/710 [==============================] - 31s 40ms/step - loss: 0.0525 - accuracy: 0.9855 - f1_score: 0.9855 - val_loss: 1.7235 - val_accuracy: 0.7713 - val_f1_score: 0.5758\n",
      "Epoch 27/60\n",
      "710/710 [==============================] - 28s 36ms/step - loss: 0.0526 - accuracy: 0.9839 - f1_score: 0.9838 - val_loss: 1.6277 - val_accuracy: 0.7827 - val_f1_score: 0.5884\n",
      "Epoch 28/60\n",
      "710/710 [==============================] - 29s 36ms/step - loss: 0.0493 - accuracy: 0.9856 - f1_score: 0.9855 - val_loss: 1.4664 - val_accuracy: 0.7931 - val_f1_score: 0.5993\n",
      "Epoch 29/60\n",
      "710/710 [==============================] - 28s 37ms/step - loss: 0.0552 - accuracy: 0.9850 - f1_score: 0.9849 - val_loss: 1.6040 - val_accuracy: 0.7838 - val_f1_score: 0.5874\n",
      "Epoch 30/60\n",
      "710/710 [==============================] - 29s 37ms/step - loss: 0.0444 - accuracy: 0.9864 - f1_score: 0.9862 - val_loss: 1.4565 - val_accuracy: 0.7952 - val_f1_score: 0.5952\n",
      "Epoch 31/60\n",
      "710/710 [==============================] - 29s 37ms/step - loss: 0.0420 - accuracy: 0.9875 - f1_score: 0.9874 - val_loss: 1.5386 - val_accuracy: 0.7838 - val_f1_score: 0.5835\n",
      "Epoch 32/60\n",
      "710/710 [==============================] - 29s 36ms/step - loss: 0.0496 - accuracy: 0.9863 - f1_score: 0.9862 - val_loss: 1.5359 - val_accuracy: 0.7848 - val_f1_score: 0.5857\n",
      "Epoch 33/60\n",
      "710/710 [==============================] - 28s 36ms/step - loss: 0.0420 - accuracy: 0.9879 - f1_score: 0.9878 - val_loss: 1.5123 - val_accuracy: 0.7859 - val_f1_score: 0.5842\n",
      "Epoch 34/60\n",
      "710/710 [==============================] - 29s 37ms/step - loss: 0.0467 - accuracy: 0.9862 - f1_score: 0.9861 - val_loss: 1.5186 - val_accuracy: 0.7827 - val_f1_score: 0.5857\n",
      "Epoch 35/60\n",
      "710/710 [==============================] - 28s 35ms/step - loss: 0.0407 - accuracy: 0.9876 - f1_score: 0.9876 - val_loss: 1.5208 - val_accuracy: 0.7931 - val_f1_score: 0.5921\n",
      "Epoch 36/60\n",
      "710/710 [==============================] - 30s 37ms/step - loss: 0.0406 - accuracy: 0.9874 - f1_score: 0.9874 - val_loss: 1.5927 - val_accuracy: 0.7827 - val_f1_score: 0.5845\n",
      "Epoch 37/60\n",
      "710/710 [==============================] - 29s 37ms/step - loss: 0.0350 - accuracy: 0.9902 - f1_score: 0.9901 - val_loss: 1.6676 - val_accuracy: 0.7775 - val_f1_score: 0.5840\n",
      "Epoch 38/60\n",
      "710/710 [==============================] - 29s 37ms/step - loss: 0.0411 - accuracy: 0.9879 - f1_score: 0.9878 - val_loss: 1.4940 - val_accuracy: 0.7911 - val_f1_score: 0.5947\n",
      "Epoch 39/60\n",
      "710/710 [==============================] - 29s 37ms/step - loss: 0.0384 - accuracy: 0.9886 - f1_score: 0.9886 - val_loss: 1.4655 - val_accuracy: 0.7911 - val_f1_score: 0.5948\n",
      "Epoch 40/60\n",
      "710/710 [==============================] - 29s 38ms/step - loss: 0.0348 - accuracy: 0.9893 - f1_score: 0.9892 - val_loss: 1.5004 - val_accuracy: 0.7900 - val_f1_score: 0.5949\n",
      "Epoch 41/60\n",
      "710/710 [==============================] - 28s 36ms/step - loss: 0.0372 - accuracy: 0.9890 - f1_score: 0.9890 - val_loss: 1.4628 - val_accuracy: 0.7921 - val_f1_score: 0.5966\n",
      "Epoch 42/60\n",
      "710/710 [==============================] - 29s 37ms/step - loss: 0.0360 - accuracy: 0.9899 - f1_score: 0.9898 - val_loss: 1.7474 - val_accuracy: 0.7620 - val_f1_score: 0.5678\n",
      "Epoch 43/60\n",
      "710/710 [==============================] - 28s 36ms/step - loss: 0.0320 - accuracy: 0.9904 - f1_score: 0.9904 - val_loss: 1.4907 - val_accuracy: 0.7879 - val_f1_score: 0.5926\n",
      "Epoch 44/60\n",
      "710/710 [==============================] - 29s 37ms/step - loss: 0.0352 - accuracy: 0.9898 - f1_score: 0.9898 - val_loss: 1.3614 - val_accuracy: 0.7931 - val_f1_score: 0.5968\n",
      "Epoch 45/60\n",
      "710/710 [==============================] - 28s 36ms/step - loss: 0.0286 - accuracy: 0.9912 - f1_score: 0.9912 - val_loss: 1.4484 - val_accuracy: 0.7973 - val_f1_score: 0.6007\n",
      "Epoch 46/60\n",
      "710/710 [==============================] - 28s 37ms/step - loss: 0.0385 - accuracy: 0.9885 - f1_score: 0.9884 - val_loss: 1.5428 - val_accuracy: 0.7775 - val_f1_score: 0.5781\n",
      "Epoch 47/60\n",
      "710/710 [==============================] - 29s 36ms/step - loss: 0.0304 - accuracy: 0.9912 - f1_score: 0.9912 - val_loss: 1.4525 - val_accuracy: 0.7890 - val_f1_score: 0.5879\n",
      "Epoch 48/60\n",
      "710/710 [==============================] - 29s 36ms/step - loss: 0.0307 - accuracy: 0.9907 - f1_score: 0.9907 - val_loss: 1.3863 - val_accuracy: 0.7900 - val_f1_score: 0.5915\n",
      "Epoch 49/60\n",
      "710/710 [==============================] - 29s 37ms/step - loss: 0.0322 - accuracy: 0.9903 - f1_score: 0.9902 - val_loss: 1.3485 - val_accuracy: 0.8046 - val_f1_score: 0.6030\n",
      "Epoch 50/60\n",
      "710/710 [==============================] - 28s 36ms/step - loss: 0.0289 - accuracy: 0.9921 - f1_score: 0.9920 - val_loss: 1.4283 - val_accuracy: 0.7859 - val_f1_score: 0.5911\n",
      "Epoch 51/60\n",
      "710/710 [==============================] - 28s 36ms/step - loss: 0.0331 - accuracy: 0.9904 - f1_score: 0.9904 - val_loss: 1.3631 - val_accuracy: 0.7942 - val_f1_score: 0.5946\n",
      "Epoch 52/60\n",
      "710/710 [==============================] - 29s 36ms/step - loss: 0.0297 - accuracy: 0.9908 - f1_score: 0.9907 - val_loss: 1.4237 - val_accuracy: 0.8004 - val_f1_score: 0.6004\n",
      "Epoch 53/60\n",
      "710/710 [==============================] - 28s 36ms/step - loss: 0.0302 - accuracy: 0.9915 - f1_score: 0.9914 - val_loss: 1.4462 - val_accuracy: 0.7994 - val_f1_score: 0.5985\n",
      "Epoch 54/60\n",
      "710/710 [==============================] - 29s 37ms/step - loss: 0.0290 - accuracy: 0.9915 - f1_score: 0.9914 - val_loss: 1.3970 - val_accuracy: 0.8015 - val_f1_score: 0.6023\n",
      "Epoch 55/60\n",
      "710/710 [==============================] - 28s 37ms/step - loss: 0.0246 - accuracy: 0.9926 - f1_score: 0.9925 - val_loss: 1.4643 - val_accuracy: 0.7983 - val_f1_score: 0.6018\n",
      "Epoch 56/60\n",
      "710/710 [==============================] - 28s 37ms/step - loss: 0.0246 - accuracy: 0.9920 - f1_score: 0.9921 - val_loss: 1.3743 - val_accuracy: 0.8035 - val_f1_score: 0.6009\n",
      "Epoch 57/60\n",
      "710/710 [==============================] - 29s 36ms/step - loss: 0.0315 - accuracy: 0.9911 - f1_score: 0.9910 - val_loss: 1.4231 - val_accuracy: 0.8067 - val_f1_score: 0.6063\n",
      "Epoch 58/60\n",
      "710/710 [==============================] - 29s 37ms/step - loss: 0.0251 - accuracy: 0.9921 - f1_score: 0.9921 - val_loss: 1.5944 - val_accuracy: 0.7931 - val_f1_score: 0.5953\n",
      "Epoch 59/60\n",
      "710/710 [==============================] - 29s 36ms/step - loss: 0.0272 - accuracy: 0.9921 - f1_score: 0.9920 - val_loss: 1.6562 - val_accuracy: 0.7879 - val_f1_score: 0.5903\n",
      "Epoch 60/60\n",
      "710/710 [==============================] - 29s 37ms/step - loss: 0.0225 - accuracy: 0.9929 - f1_score: 0.9929 - val_loss: 1.4999 - val_accuracy: 0.8077 - val_f1_score: 0.6122\n"
     ]
    }
   ],
   "source": [
    "hist, freeze_hist = training(train, test, \"model_test_ref.h5\", epochs=100, verbose=1)"
   ]
  },
  {
   "cell_type": "code",
   "execution_count": 137,
   "metadata": {},
   "outputs": [
    {
     "name": "stdout",
     "output_type": "stream",
     "text": [
      "------------------------------ First training ------------------------------\n"
     ]
    },
    {
     "data": {
      "image/png": "[encoded data removed]",
      "text/plain": [
       "<Figure size 1800x360 with 2 Axes>"
      ]
     },
     "metadata": {
      "needs_background": "light"
     },
     "output_type": "display_data"
    },
    {
     "name": "stdout",
     "output_type": "stream",
     "text": [
      "------------------------------ Second training ------------------------------\n"
     ]
    },
    {
     "data": {
      "image/png": "[encoded data removed]",
      "text/plain": [
       "<Figure size 1800x360 with 2 Axes>"
      ]
     },
     "metadata": {
      "needs_background": "light"
     },
     "output_type": "display_data"
    }
   ],
   "source": [
    "####################################################################################\n",
    "############# Executer les fonctions utiles à la fin du notebook avant #############\n",
    "####################################################################################\n",
    "\n",
    "plot_history(freeze_hist, name = \"First training\")\n",
    "plot_history(hist, name = \"Second training\")"
   ]
  },
  {
   "cell_type": "markdown",
   "metadata": {},
   "source": [
    "Une fois notre modèle entrainé, les poids du meilleur réseau ont été sauvegardés dans un fichier model_no_aug_best.h5.  \n",
    "\n",
    "Nous rechargeons le modèle afin de l'évaluer sur notre jeu de test.   "
   ]
  },
  {
   "cell_type": "code",
   "execution_count": 6,
   "metadata": {},
   "outputs": [],
   "source": [
    "model = keras.models.load_model('model_test_ref.h5')"
   ]
  },
  {
   "cell_type": "code",
   "execution_count": 46,
   "metadata": {},
   "outputs": [
    {
     "name": "stdout",
     "output_type": "stream",
     "text": [
      "------------------------------ Evaluation Report ------------------------------ \n",
      "\n",
      "Test Size : Found 962 validated image filenames.\n",
      "\n",
      "Report : \n",
      "\n",
      "F1_score macro: 0.6484092157811903\n",
      "Accuracy:  0.7817047817047817\n"
     ]
    }
   ],
   "source": [
    "####################################################################################\n",
    "############# Executer les fonctions utiles à la fin du notebook avant #############\n",
    "####################################################################################\n",
    "report = report_evaluation(model, test, train['label_name'].cat.categories.tolist())"
   ]
  },
  {
   "cell_type": "markdown",
   "metadata": {},
   "source": [
    "## Annexe :  Fonctions utiles"
   ]
  },
  {
   "cell_type": "code",
   "execution_count": 4,
   "metadata": {},
   "outputs": [],
   "source": [
    "def plot_history(hist, name = \"Training\"):\n",
    "    print(\"-\"*30, name, \"-\"*30)\n",
    "    plt.figure(figsize=(25,5))\n",
    "    \n",
    "    plt.subplot(1,2,1)\n",
    "    plt.plot(hist.history[\"loss\"])\n",
    "    plt.plot(hist.history[\"val_loss\"])\n",
    "    plt.title(\"Loss\")\n",
    "    plt.ylabel(\"loss\")\n",
    "    plt.xlabel(\"epoch\")\n",
    "    plt.legend([\"train\",\"validation\"], loc=\"upper left\")\n",
    "    \n",
    "    plt.subplot(1,2,2)\n",
    "    plt.plot(hist.history[\"f1_score\"])\n",
    "    plt.plot(hist.history[\"val_f1_score\"])\n",
    "    plt.title(\"F1 - Score\")\n",
    "    plt.ylabel(\"score\")\n",
    "    plt.xlabel(\"epoch\")\n",
    "    plt.legend([\"train\",\"validation\"], loc=\"upper left\")\n",
    "    \n",
    "    plt.show()"
   ]
  },
  {
   "cell_type": "code",
   "execution_count": 45,
   "metadata": {},
   "outputs": [],
   "source": [
    "def report_evaluation(model, test_df, class_indices, image_size=120, batch_size=32, verbose = 1):\n",
    "    \n",
    "    if verbose > 0:\n",
    "        print(\"-\"*30,\"Evaluation Report\",\"-\"*30,\"\\n\")\n",
    "    datagen_test = ImageDataGenerator()\n",
    "    \n",
    "    if verbose > 0:\n",
    "        print(\"Test Size :\", end=' ')\n",
    "    test_generator = datagen_test.flow_from_dataframe(dataframe=test_df, \n",
    "        x_col=\"name\",\n",
    "        shuffle=False,\n",
    "        target_size=(image_size,image_size), \n",
    "        batch_size=batch_size,\n",
    "        class_mode=None,\n",
    "        rescale=1.0/255,\n",
    "        seed=2020 )\n",
    "    \n",
    "    if verbose > 0:\n",
    "        print(\"\\nReport : \\n\")\n",
    "    probabilities = model.predict(test_generator)\n",
    "    y_pred = np.argmax(probabilities,1)\n",
    "    y_test = np.array(test_df[\"label\"])\n",
    "    \n",
    "    score_f1 = f1_score(y_test, y_pred, average=\"macro\")\n",
    "    score_acc = accuracy_score(y_test, y_pred)\n",
    "    \n",
    "    if verbose > 0:\n",
    "        print(\"F1_score macro:\", score_f1)\n",
    "        print(\"Accuracy: \", score_acc)\n",
    "    \n",
    "    return score_f1, score_acc, y_pred, y_test, np.max(probabilities,1)"
   ]
  }
 ],
 "metadata": {
  "kernelspec": {
   "display_name": "Python 3",
   "language": "python",
   "name": "python3"
  },
  "language_info": {
   "codemirror_mode": {
    "name": "ipython",
    "version": 3
   },
   "file_extension": ".py",
   "mimetype": "text/x-python",
   "name": "python",
   "nbconvert_exporter": "python",
   "pygments_lexer": "ipython3",
   "version": "3.8.3"
  }
 },
 "nbformat": 4,
 "nbformat_minor": 4
}
